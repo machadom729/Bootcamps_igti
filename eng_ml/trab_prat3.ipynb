{
 "cells": [
  {
   "cell_type": "code",
   "execution_count": 31,
   "metadata": {},
   "outputs": [],
   "source": [
    "import pandas as pd\n",
    "import numpy as np\n",
    "from sklearn.model_selection import train_test_split\n",
    "from sklearn.metrics import accuracy_score, recall_score, precision_score\n",
    "from sklearn.metrics import f1_score, confusion_matrix, classification_report\n",
    "from sklearn.metrics import precision_recall_curve, roc_auc_score\n",
    "from sklearn.metrics import r2_score, mean_squared_error, mean_absolute_error\n",
    "from sklearn.metrics import silhouette_score, davies_bouldin_score, mutual_info_score\n",
    "from sklearn.linear_model import LinearRegression\n",
    "from sklearn.svm import SVC\n",
    "from sklearn.cluster import KMeans"
   ]
  },
  {
   "cell_type": "markdown",
   "metadata": {},
   "source": [
    "### Regressao linear"
   ]
  },
  {
   "cell_type": "code",
   "execution_count": 19,
   "metadata": {},
   "outputs": [
    {
     "name": "stdout",
     "output_type": "stream",
     "text": [
      "    age  deficit  c_peptide\n",
      "0   5.2     -8.1        4.8\n",
      "1   8.8    -16.1        4.1\n",
      "2  10.5     -0.9        5.2\n",
      "3  10.6     -7.8        5.5\n",
      "4  10.4    -29.0        5.0 \n",
      "\n",
      "(43, 3) \n",
      "\n",
      "<class 'pandas.core.frame.DataFrame'>\n",
      "RangeIndex: 43 entries, 0 to 42\n",
      "Data columns (total 3 columns):\n",
      " #   Column     Non-Null Count  Dtype  \n",
      "---  ------     --------------  -----  \n",
      " 0   age        43 non-null     float64\n",
      " 1   deficit    43 non-null     float64\n",
      " 2   c_peptide  43 non-null     float64\n",
      "dtypes: float64(3)\n",
      "memory usage: 1.1 KB\n",
      "None \n",
      "\n",
      "             age    deficit  c_peptide\n",
      "count  43.000000  43.000000  43.000000\n",
      "mean    9.032558  -8.148837   4.746512\n",
      "std     4.022539   7.123080   0.720565\n",
      "min     0.900000 -29.000000   3.000000\n",
      "25%     5.500000 -12.700000   4.450000\n",
      "50%    10.400000  -7.800000   4.900000\n",
      "75%    11.850000  -2.000000   5.100000\n",
      "max    15.600000  -0.200000   6.600000 \n",
      "\n"
     ]
    }
   ],
   "source": [
    "\n",
    "df_diabetes = pd.read_csv('./data/Cópia de diabetes_numeric.csv')\n",
    "print(df_diabetes.head(), '\\n')\n",
    "print(df_diabetes.shape, '\\n')\n",
    "print(df_diabetes.info(), '\\n')\n",
    "print(df_diabetes.describe(), '\\n')"
   ]
  },
  {
   "cell_type": "code",
   "execution_count": 30,
   "metadata": {},
   "outputs": [
    {
     "name": "stdout",
     "output_type": "stream",
     "text": [
      "R2: 0.016814158185133876\n",
      "MSE: 0.4405517496663409\n",
      "MAE: 0.5322924084179863\n"
     ]
    }
   ],
   "source": [
    "xtreino, xteste, ytreino, yteste = train_test_split(df_diabetes.drop('c_peptide', axis=1),df_diabetes['c_peptide'], test_size=0.37, random_state=5762)\n",
    "\n",
    "lm = LinearRegression()\n",
    "lm.fit(xtreino, ytreino)\n",
    "predict = lm.predict(xteste)\n",
    "\n",
    "print('R2:', r2_score(yteste, predict))\n",
    "print('MSE:', mean_squared_error(yteste, predict))\n",
    "print('MAE:', mean_absolute_error(yteste, predict))"
   ]
  },
  {
   "cell_type": "markdown",
   "metadata": {},
   "source": [
    "### SVM"
   ]
  },
  {
   "cell_type": "code",
   "execution_count": 18,
   "metadata": {},
   "outputs": [
    {
     "name": "stdout",
     "output_type": "stream",
     "text": [
      "   V1  V2     V3  V4  Class\n",
      "0   2  50  12500  98      2\n",
      "1   0  13   3250  28      2\n",
      "2   1  16   4000  35      2\n",
      "3   2  20   5000  45      2\n",
      "4   1  24   6000  77      1 \n",
      "\n",
      "(748, 5) \n",
      "\n",
      "<class 'pandas.core.frame.DataFrame'>\n",
      "RangeIndex: 748 entries, 0 to 747\n",
      "Data columns (total 5 columns):\n",
      " #   Column  Non-Null Count  Dtype\n",
      "---  ------  --------------  -----\n",
      " 0   V1      748 non-null    int64\n",
      " 1   V2      748 non-null    int64\n",
      " 2   V3      748 non-null    int64\n",
      " 3   V4      748 non-null    int64\n",
      " 4   Class   748 non-null    int64\n",
      "dtypes: int64(5)\n",
      "memory usage: 29.3 KB\n",
      "None \n",
      "\n",
      "               V1          V2            V3          V4       Class\n",
      "count  748.000000  748.000000    748.000000  748.000000  748.000000\n",
      "mean     9.506684    5.514706   1378.676471   34.282086    1.237968\n",
      "std      8.095396    5.839307   1459.826781   24.376714    0.426124\n",
      "min      0.000000    1.000000    250.000000    2.000000    1.000000\n",
      "25%      2.750000    2.000000    500.000000   16.000000    1.000000\n",
      "50%      7.000000    4.000000   1000.000000   28.000000    1.000000\n",
      "75%     14.000000    7.000000   1750.000000   50.000000    1.000000\n",
      "max     74.000000   50.000000  12500.000000   98.000000    2.000000 \n",
      "\n"
     ]
    }
   ],
   "source": [
    "df_blood = pd.read_csv('./data/Cópia de bloodtransf.csv')\n",
    "print(df_blood.head(), '\\n')\n",
    "print(df_blood.shape, '\\n')\n",
    "print(df_blood.info(), '\\n')\n",
    "print(df_blood.describe(), '\\n')"
   ]
  },
  {
   "cell_type": "code",
   "execution_count": 36,
   "metadata": {},
   "outputs": [
    {
     "name": "stdout",
     "output_type": "stream",
     "text": [
      "accuracy: 0.7870036101083032\n",
      "recall: 0.981651376146789\n",
      "precision: 0.7955390334572491\n",
      "f1: 0.8788501026694046\n",
      "AUCROC 0.5247239931581403\n"
     ]
    }
   ],
   "source": [
    "xtreino, xteste, ytreino, yteste = train_test_split(df_blood.drop('Class', axis=1),df_blood['Class'], test_size=0.37, random_state=5762)\n",
    "\n",
    "baseline_preds = np.random.choice([0,1], size = len(yteste))\n",
    "\n",
    "svm = SVC()\n",
    "svm.fit(xtreino, ytreino)\n",
    "predict = svm.predict(xteste)\n",
    "\n",
    "print('accuracy:', accuracy_score(yteste, predict))\n",
    "print('recall:', recall_score(yteste, predict))\n",
    "print('precision:', precision_score(yteste, predict))\n",
    "print('f1:', f1_score(yteste, predict))\n",
    "print('AUCROC', roc_auc_score(yteste, predict))"
   ]
  },
  {
   "cell_type": "code",
   "execution_count": 34,
   "metadata": {},
   "outputs": [
    {
     "name": "stdout",
     "output_type": "stream",
     "text": [
      "              precision    recall  f1-score   support\n",
      "\n",
      "           1       0.80      0.98      0.88       218\n",
      "           2       0.50      0.07      0.12        59\n",
      "\n",
      "    accuracy                           0.79       277\n",
      "   macro avg       0.65      0.52      0.50       277\n",
      "weighted avg       0.73      0.79      0.72       277\n",
      "\n"
     ]
    }
   ],
   "source": [
    "print(classification_report(yteste, predict))"
   ]
  },
  {
   "cell_type": "markdown",
   "metadata": {},
   "source": [
    "### kmeans"
   ]
  },
  {
   "cell_type": "code",
   "execution_count": 17,
   "metadata": {},
   "outputs": [
    {
     "name": "stdout",
     "output_type": "stream",
     "text": [
      "   class  Alcohol  Malic_acid   Ash  Alcalinity_of_ash  Magnesium  \\\n",
      "0      1    14.23        1.71  2.43               15.6        127   \n",
      "1      1    13.20        1.78  2.14               11.2        100   \n",
      "2      1    13.16        2.36  2.67               18.6        101   \n",
      "3      1    14.37        1.95  2.50               16.8        113   \n",
      "4      1    13.24        2.59  2.87               21.0        118   \n",
      "\n",
      "   Total_phenols  Flavanoids  Nonflavanoid_phenols  Proanthocyanins  \\\n",
      "0           2.80        3.06                  0.28             2.29   \n",
      "1           2.65        2.76                  0.26             1.28   \n",
      "2           2.80        3.24                  0.30             2.81   \n",
      "3           3.85        3.49                  0.24             2.18   \n",
      "4           2.80        2.69                  0.39             1.82   \n",
      "\n",
      "   Color_intensity   Hue  OD280%2FOD315_of_diluted_wines  Proline  \n",
      "0             5.64  1.04                            3.92     1065  \n",
      "1             4.38  1.05                            3.40     1050  \n",
      "2             5.68  1.03                            3.17     1185  \n",
      "3             7.80  0.86                            3.45     1480  \n",
      "4             4.32  1.04                            2.93      735   \n",
      "\n",
      "(178, 14) \n",
      "\n",
      "<class 'pandas.core.frame.DataFrame'>\n",
      "RangeIndex: 178 entries, 0 to 177\n",
      "Data columns (total 14 columns):\n",
      " #   Column                          Non-Null Count  Dtype  \n",
      "---  ------                          --------------  -----  \n",
      " 0   class                           178 non-null    int64  \n",
      " 1   Alcohol                         178 non-null    float64\n",
      " 2   Malic_acid                      178 non-null    float64\n",
      " 3   Ash                             178 non-null    float64\n",
      " 4   Alcalinity_of_ash               178 non-null    float64\n",
      " 5   Magnesium                       178 non-null    int64  \n",
      " 6   Total_phenols                   178 non-null    float64\n",
      " 7   Flavanoids                      178 non-null    float64\n",
      " 8   Nonflavanoid_phenols            178 non-null    float64\n",
      " 9   Proanthocyanins                 178 non-null    float64\n",
      " 10  Color_intensity                 178 non-null    float64\n",
      " 11  Hue                             178 non-null    float64\n",
      " 12  OD280%2FOD315_of_diluted_wines  178 non-null    float64\n",
      " 13  Proline                         178 non-null    int64  \n",
      "dtypes: float64(11), int64(3)\n",
      "memory usage: 19.6 KB\n",
      "None \n",
      "\n",
      "            class     Alcohol  Malic_acid         Ash  Alcalinity_of_ash  \\\n",
      "count  178.000000  178.000000  178.000000  178.000000         178.000000   \n",
      "mean     1.938202   13.000618    2.336348    2.366517          19.494944   \n",
      "std      0.775035    0.811827    1.117146    0.274344           3.339564   \n",
      "min      1.000000   11.030000    0.740000    1.360000          10.600000   \n",
      "25%      1.000000   12.362500    1.602500    2.210000          17.200000   \n",
      "50%      2.000000   13.050000    1.865000    2.360000          19.500000   \n",
      "75%      3.000000   13.677500    3.082500    2.557500          21.500000   \n",
      "max      3.000000   14.830000    5.800000    3.230000          30.000000   \n",
      "\n",
      "        Magnesium  Total_phenols  Flavanoids  Nonflavanoid_phenols  \\\n",
      "count  178.000000     178.000000  178.000000            178.000000   \n",
      "mean    99.741573       2.295112    2.029270              0.361854   \n",
      "std     14.282484       0.625851    0.998859              0.124453   \n",
      "min     70.000000       0.980000    0.340000              0.130000   \n",
      "25%     88.000000       1.742500    1.205000              0.270000   \n",
      "50%     98.000000       2.355000    2.135000              0.340000   \n",
      "75%    107.000000       2.800000    2.875000              0.437500   \n",
      "max    162.000000       3.880000    5.080000              0.660000   \n",
      "\n",
      "       Proanthocyanins  Color_intensity         Hue  \\\n",
      "count       178.000000       178.000000  178.000000   \n",
      "mean          1.590899         5.058090    0.957449   \n",
      "std           0.572359         2.318286    0.228572   \n",
      "min           0.410000         1.280000    0.480000   \n",
      "25%           1.250000         3.220000    0.782500   \n",
      "50%           1.555000         4.690000    0.965000   \n",
      "75%           1.950000         6.200000    1.120000   \n",
      "max           3.580000        13.000000    1.710000   \n",
      "\n",
      "       OD280%2FOD315_of_diluted_wines      Proline  \n",
      "count                      178.000000   178.000000  \n",
      "mean                         2.611685   746.893258  \n",
      "std                          0.709990   314.907474  \n",
      "min                          1.270000   278.000000  \n",
      "25%                          1.937500   500.500000  \n",
      "50%                          2.780000   673.500000  \n",
      "75%                          3.170000   985.000000  \n",
      "max                          4.000000  1680.000000   \n",
      "\n"
     ]
    }
   ],
   "source": [
    "df_wine = pd.read_csv('./data/Cópia de wine.csv')\n",
    "print(df_wine.head(), '\\n')\n",
    "print(df_wine.shape, '\\n')\n",
    "print(df_wine.info(), '\\n')\n",
    "print(df_wine.describe(), '\\n')"
   ]
  },
  {
   "cell_type": "code",
   "execution_count": 46,
   "metadata": {},
   "outputs": [
    {
     "data": {
      "text/plain": [
       "141    3\n",
       "129    2\n",
       "101    2\n",
       "95     2\n",
       "175    3\n",
       "      ..\n",
       "128    2\n",
       "155    3\n",
       "113    2\n",
       "154    3\n",
       "64     2\n",
       "Name: class, Length: 66, dtype: int64"
      ]
     },
     "execution_count": 46,
     "metadata": {},
     "output_type": "execute_result"
    }
   ],
   "source": [
    "yteste"
   ]
  },
  {
   "cell_type": "code",
   "execution_count": 48,
   "metadata": {},
   "outputs": [
    {
     "name": "stdout",
     "output_type": "stream",
     "text": [
      "Coeficiente de Silhueta\n",
      " 0.5995566852797415\n",
      "\n",
      "Davies-Bouldin Score\n",
      " 0.49625702117326337\n",
      "\n",
      "Mutual information\n",
      " 0.4901210809010372\n"
     ]
    }
   ],
   "source": [
    "xtreino, xteste, ytreino, yteste = train_test_split(df_wine.drop('class', axis=1),df_wine['class'], test_size=0.37, random_state=5762)\n",
    "\n",
    "kmeans = KMeans(n_clusters=3, random_state=5762)\n",
    "kmeans.fit(xtreino)\n",
    "predict = kmeans.predict(xteste)\n",
    "\n",
    "print('Coeficiente de Silhueta\\n', silhouette_score(xteste, predict)) \n",
    "print('\\nDavies-Bouldin Score\\n', davies_bouldin_score(xteste, predict)) \n",
    "print('\\nMutual information\\n', mutual_info_score(yteste, predict))"
   ]
  },
  {
   "cell_type": "code",
   "execution_count": 23,
   "metadata": {},
   "outputs": [
    {
     "data": {
      "text/plain": [
       "array([[1.02127660e+00, 1.38044681e+01, 1.88340426e+00, 2.42617021e+00,\n",
       "        1.70234043e+01, 1.05510638e+02, 2.86723404e+00, 3.01425532e+00,\n",
       "        2.85319149e-01, 1.91042553e+00, 5.70255319e+00, 1.07829787e+00,\n",
       "        3.11404255e+00, 1.19514894e+03],\n",
       "       [2.27536232e+00, 1.25166667e+01, 2.49420290e+00, 2.28855072e+00,\n",
       "        2.08231884e+01, 9.23478261e+01, 2.07072464e+00, 1.75840580e+00,\n",
       "        3.90144928e-01, 1.45188406e+00, 4.08695651e+00, 9.41159420e-01,\n",
       "        2.49072464e+00, 4.58231884e+02],\n",
       "       [2.25806452e+00, 1.29298387e+01, 2.50403226e+00, 2.40806452e+00,\n",
       "        1.98903226e+01, 1.03596774e+02, 2.11112903e+00, 1.58403226e+00,\n",
       "        3.88387097e-01, 1.50338710e+00, 5.65032258e+00, 8.83967742e-01,\n",
       "        2.36548387e+00, 7.28338710e+02]])"
      ]
     },
     "execution_count": 23,
     "metadata": {},
     "output_type": "execute_result"
    }
   ],
   "source": [
    "kmeans.cluster_centers_"
   ]
  }
 ],
 "metadata": {
  "kernelspec": {
   "display_name": "Python 3.9.12 ('base')",
   "language": "python",
   "name": "python3"
  },
  "language_info": {
   "codemirror_mode": {
    "name": "ipython",
    "version": 3
   },
   "file_extension": ".py",
   "mimetype": "text/x-python",
   "name": "python",
   "nbconvert_exporter": "python",
   "pygments_lexer": "ipython3",
   "version": "3.9.12"
  },
  "orig_nbformat": 4,
  "vscode": {
   "interpreter": {
    "hash": "267cf4349504803e4469c5088b0d9ee38123c7b4601634e9e368f7e08e0ef12a"
   }
  }
 },
 "nbformat": 4,
 "nbformat_minor": 2
}
