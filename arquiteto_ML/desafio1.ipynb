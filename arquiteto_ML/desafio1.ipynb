{
 "cells": [
  {
   "cell_type": "code",
   "execution_count": 11,
   "metadata": {},
   "outputs": [],
   "source": [
    "import numpy as np\n",
    "import cv2, os\n",
    "from matplotlib import pyplot as plt\n",
    "from sklearn.model_selection import train_test_split\n",
    "from tensorflow.keras.preprocessing.image import ImageDataGenerator\n",
    "from tensorflow.keras.applications import VGG16, VGG19, ResNet152\n",
    "import tensorflow as tf"
   ]
  },
  {
   "cell_type": "code",
   "execution_count": 2,
   "metadata": {},
   "outputs": [
    {
     "data": {
      "text/plain": [
       "['cat.2272.jpg', 'dog.779.jpg', 'dog.139.jpg', 'cat.2.jpg', 'dog.620.jpg']"
      ]
     },
     "execution_count": 2,
     "metadata": {},
     "output_type": "execute_result"
    }
   ],
   "source": [
    "caminho = [os.path.join(x) for x in os.listdir('./data/cats_and_dogs/')]\n",
    "caminho[:5]"
   ]
  },
  {
   "cell_type": "code",
   "execution_count": 3,
   "metadata": {},
   "outputs": [],
   "source": [
    "label = []\n",
    "data = []\n",
    "for path in caminho:\n",
    "    data.append(cv2.resize(cv2.imread(f'./data/cats_and_dogs/{path}'),\n",
    "                                (220,128)))\n",
    "    if 'cat' in path:\n",
    "        label.append(0.0)\n",
    "    else:\n",
    "        label.append(1.0)\n",
    "        \n",
    "# data = np.asarray(data)\n",
    "# label = np.asarray(label)\n",
    "# print(data.shape)\n",
    "# print(label.shape)"
   ]
  },
  {
   "cell_type": "code",
   "execution_count": 4,
   "metadata": {},
   "outputs": [
    {
     "name": "stdout",
     "output_type": "stream",
     "text": [
      "(4000, 128, 220, 3)\n",
      "(4000,)\n"
     ]
    }
   ],
   "source": [
    "datagen = ImageDataGenerator(rotation_range=45, width_shift_range=0.2,\n",
    "                              height_shift_range=0.2)\n",
    "\n",
    "imageGen = datagen.flow(np.asarray(data),np.asarray(label), batch_size=1)\n",
    "\n",
    "for i in range(1000):\n",
    "    img = next(imageGen)\n",
    "    # print(data.shape)\n",
    "    # print(img[0][0].shape)\n",
    "    data.append(img[0][0].tolist())\n",
    "    label.append(img[1].tolist)\n",
    "\n",
    "data = np.asarray(data)\n",
    "label = np.asarray(label)\n",
    "print(data.shape)\n",
    "print(label.shape)"
   ]
  },
  {
   "cell_type": "code",
   "execution_count": 5,
   "metadata": {},
   "outputs": [],
   "source": [
    "x_train, x_test, y_train, y_test = train_test_split(data, label, test_size=0.3)"
   ]
  },
  {
   "cell_type": "code",
   "execution_count": 14,
   "metadata": {},
   "outputs": [
    {
     "name": "stderr",
     "output_type": "stream",
     "text": [
      "2022-09-09 00:13:47.523160: W tensorflow/core/framework/cpu_allocator_impl.cc:82] Allocation of 1892352000 exceeds 10% of free system memory.\n",
      "2022-09-09 00:13:58.084019: W tensorflow/core/common_runtime/bfc_allocator.cc:479] Allocator (GPU_0_bfc) ran out of memory trying to allocate 1.76GiB (rounded to 1892352000)requested by op _EagerConst\n",
      "If the cause is memory fragmentation maybe the environment variable 'TF_GPU_ALLOCATOR=cuda_malloc_async' will improve the situation. \n",
      "Current allocation summary follows.\n",
      "Current allocation summary follows.\n",
      "2022-09-09 00:13:58.084068: I tensorflow/core/common_runtime/bfc_allocator.cc:1027] BFCAllocator dump for GPU_0_bfc\n",
      "2022-09-09 00:13:58.084076: I tensorflow/core/common_runtime/bfc_allocator.cc:1034] Bin (256): \tTotal Chunks: 35, Chunks in use: 35. 8.8KiB allocated for chunks. 8.8KiB in use in bin. 1.1KiB client-requested in use in bin.\n",
      "2022-09-09 00:13:58.084080: I tensorflow/core/common_runtime/bfc_allocator.cc:1034] Bin (512): \tTotal Chunks: 4, Chunks in use: 4. 2.0KiB allocated for chunks. 2.0KiB in use in bin. 2.0KiB client-requested in use in bin.\n",
      "2022-09-09 00:13:58.084084: I tensorflow/core/common_runtime/bfc_allocator.cc:1034] Bin (1024): \tTotal Chunks: 7, Chunks in use: 7. 7.2KiB allocated for chunks. 7.2KiB in use in bin. 7.0KiB client-requested in use in bin.\n",
      "2022-09-09 00:13:58.084088: I tensorflow/core/common_runtime/bfc_allocator.cc:1034] Bin (2048): \tTotal Chunks: 12, Chunks in use: 12. 25.5KiB allocated for chunks. 25.5KiB in use in bin. 24.0KiB client-requested in use in bin.\n",
      "2022-09-09 00:13:58.084092: I tensorflow/core/common_runtime/bfc_allocator.cc:1034] Bin (4096): \tTotal Chunks: 3, Chunks in use: 2. 20.5KiB allocated for chunks. 13.5KiB in use in bin. 13.5KiB client-requested in use in bin.\n",
      "2022-09-09 00:13:58.084096: I tensorflow/core/common_runtime/bfc_allocator.cc:1034] Bin (8192): \tTotal Chunks: 0, Chunks in use: 0. 0B allocated for chunks. 0B in use in bin. 0B client-requested in use in bin.\n",
      "2022-09-09 00:13:58.084100: I tensorflow/core/common_runtime/bfc_allocator.cc:1034] Bin (16384): \tTotal Chunks: 6, Chunks in use: 6. 96.0KiB allocated for chunks. 96.0KiB in use in bin. 96.0KiB client-requested in use in bin.\n",
      "2022-09-09 00:13:58.084104: I tensorflow/core/common_runtime/bfc_allocator.cc:1034] Bin (32768): \tTotal Chunks: 1, Chunks in use: 0. 32.0KiB allocated for chunks. 0B in use in bin. 0B client-requested in use in bin.\n",
      "2022-09-09 00:13:58.084107: I tensorflow/core/common_runtime/bfc_allocator.cc:1034] Bin (65536): \tTotal Chunks: 1, Chunks in use: 0. 64.0KiB allocated for chunks. 0B in use in bin. 0B client-requested in use in bin.\n",
      "2022-09-09 00:13:58.084112: I tensorflow/core/common_runtime/bfc_allocator.cc:1034] Bin (131072): \tTotal Chunks: 3, Chunks in use: 2. 486.2KiB allocated for chunks. 288.0KiB in use in bin. 288.0KiB client-requested in use in bin.\n",
      "2022-09-09 00:13:58.084116: I tensorflow/core/common_runtime/bfc_allocator.cc:1034] Bin (262144): \tTotal Chunks: 3, Chunks in use: 2. 864.0KiB allocated for chunks. 576.0KiB in use in bin. 576.0KiB client-requested in use in bin.\n",
      "2022-09-09 00:13:58.084119: I tensorflow/core/common_runtime/bfc_allocator.cc:1034] Bin (524288): \tTotal Chunks: 4, Chunks in use: 2. 2.25MiB allocated for chunks. 1.12MiB in use in bin. 1.12MiB client-requested in use in bin.\n",
      "2022-09-09 00:13:58.084123: I tensorflow/core/common_runtime/bfc_allocator.cc:1034] Bin (1048576): \tTotal Chunks: 3, Chunks in use: 2. 3.38MiB allocated for chunks. 2.25MiB in use in bin. 2.25MiB client-requested in use in bin.\n",
      "2022-09-09 00:13:58.084127: I tensorflow/core/common_runtime/bfc_allocator.cc:1034] Bin (2097152): \tTotal Chunks: 6, Chunks in use: 4. 13.50MiB allocated for chunks. 9.00MiB in use in bin. 9.00MiB client-requested in use in bin.\n",
      "2022-09-09 00:13:58.084131: I tensorflow/core/common_runtime/bfc_allocator.cc:1034] Bin (4194304): \tTotal Chunks: 2, Chunks in use: 2. 11.25MiB allocated for chunks. 11.25MiB in use in bin. 9.00MiB client-requested in use in bin.\n",
      "2022-09-09 00:13:58.084135: I tensorflow/core/common_runtime/bfc_allocator.cc:1034] Bin (8388608): \tTotal Chunks: 12, Chunks in use: 10. 108.00MiB allocated for chunks. 90.00MiB in use in bin. 90.00MiB client-requested in use in bin.\n",
      "2022-09-09 00:13:58.084145: I tensorflow/core/common_runtime/bfc_allocator.cc:1034] Bin (16777216): \tTotal Chunks: 0, Chunks in use: 0. 0B allocated for chunks. 0B in use in bin. 0B client-requested in use in bin.\n",
      "2022-09-09 00:13:58.084164: I tensorflow/core/common_runtime/bfc_allocator.cc:1034] Bin (33554432): \tTotal Chunks: 0, Chunks in use: 0. 0B allocated for chunks. 0B in use in bin. 0B client-requested in use in bin.\n",
      "2022-09-09 00:13:58.084168: I tensorflow/core/common_runtime/bfc_allocator.cc:1034] Bin (67108864): \tTotal Chunks: 5, Chunks in use: 2. 330.00MiB allocated for chunks. 128.00MiB in use in bin. 128.00MiB client-requested in use in bin.\n",
      "2022-09-09 00:13:58.084171: I tensorflow/core/common_runtime/bfc_allocator.cc:1034] Bin (134217728): \tTotal Chunks: 3, Chunks in use: 2. 576.00MiB allocated for chunks. 384.00MiB in use in bin. 384.00MiB client-requested in use in bin.\n",
      "2022-09-09 00:13:58.084175: I tensorflow/core/common_runtime/bfc_allocator.cc:1034] Bin (268435456): \tTotal Chunks: 1, Chunks in use: 0. 1.04GiB allocated for chunks. 0B in use in bin. 0B client-requested in use in bin.\n",
      "2022-09-09 00:13:58.084178: I tensorflow/core/common_runtime/bfc_allocator.cc:1050] Bin for 1.76GiB was 256.00MiB, Chunk State: \n",
      "2022-09-09 00:13:58.084185: I tensorflow/core/common_runtime/bfc_allocator.cc:1056]   Size: 1.04GiB | Requested Size: 0B | in_use: 0 | bin_num: 20, prev:   Size: 192.00MiB | Requested Size: 192.00MiB | in_use: 1 | bin_num: -1\n",
      "2022-09-09 00:13:58.084188: I tensorflow/core/common_runtime/bfc_allocator.cc:1063] Next region of size 2216112896\n",
      "2022-09-09 00:13:58.084193: I tensorflow/core/common_runtime/bfc_allocator.cc:1083] InUse at 70cba0000 of size 1280 next 1\n",
      "2022-09-09 00:13:58.084195: I tensorflow/core/common_runtime/bfc_allocator.cc:1083] InUse at 70cba0500 of size 256 next 2\n",
      "2022-09-09 00:13:58.084198: I tensorflow/core/common_runtime/bfc_allocator.cc:1083] InUse at 70cba0600 of size 256 next 3\n",
      "2022-09-09 00:13:58.084200: I tensorflow/core/common_runtime/bfc_allocator.cc:1083] InUse at 70cba0700 of size 256 next 4\n",
      "2022-09-09 00:13:58.084202: I tensorflow/core/common_runtime/bfc_allocator.cc:1083] InUse at 70cba0800 of size 256 next 5\n",
      "2022-09-09 00:13:58.084204: I tensorflow/core/common_runtime/bfc_allocator.cc:1083] InUse at 70cba0900 of size 256 next 8\n",
      "2022-09-09 00:13:58.084206: I tensorflow/core/common_runtime/bfc_allocator.cc:1083] InUse at 70cba0a00 of size 256 next 9\n",
      "2022-09-09 00:13:58.084209: I tensorflow/core/common_runtime/bfc_allocator.cc:1083] InUse at 70cba0b00 of size 256 next 10\n",
      "2022-09-09 00:13:58.084211: I tensorflow/core/common_runtime/bfc_allocator.cc:1083] InUse at 70cba0c00 of size 256 next 13\n",
      "2022-09-09 00:13:58.084213: I tensorflow/core/common_runtime/bfc_allocator.cc:1083] InUse at 70cba0d00 of size 256 next 14\n",
      "2022-09-09 00:13:58.084216: I tensorflow/core/common_runtime/bfc_allocator.cc:1083] InUse at 70cba0e00 of size 512 next 17\n",
      "2022-09-09 00:13:58.084218: I tensorflow/core/common_runtime/bfc_allocator.cc:1083] InUse at 70cba1000 of size 256 next 18\n",
      "2022-09-09 00:13:58.084221: I tensorflow/core/common_runtime/bfc_allocator.cc:1083] InUse at 70cba1100 of size 256 next 19\n",
      "2022-09-09 00:13:58.084223: I tensorflow/core/common_runtime/bfc_allocator.cc:1083] InUse at 70cba1200 of size 512 next 20\n",
      "2022-09-09 00:13:58.084225: I tensorflow/core/common_runtime/bfc_allocator.cc:1083] InUse at 70cba1400 of size 256 next 23\n",
      "2022-09-09 00:13:58.084227: I tensorflow/core/common_runtime/bfc_allocator.cc:1083] InUse at 70cba1500 of size 256 next 24\n",
      "2022-09-09 00:13:58.084229: I tensorflow/core/common_runtime/bfc_allocator.cc:1083] InUse at 70cba1600 of size 1024 next 27\n",
      "2022-09-09 00:13:58.084232: I tensorflow/core/common_runtime/bfc_allocator.cc:1083] InUse at 70cba1a00 of size 256 next 28\n",
      "2022-09-09 00:13:58.084234: I tensorflow/core/common_runtime/bfc_allocator.cc:1083] InUse at 70cba1b00 of size 256 next 29\n",
      "2022-09-09 00:13:58.084236: I tensorflow/core/common_runtime/bfc_allocator.cc:1083] InUse at 70cba1c00 of size 1024 next 30\n",
      "2022-09-09 00:13:58.084252: I tensorflow/core/common_runtime/bfc_allocator.cc:1083] InUse at 70cba2000 of size 1024 next 33\n",
      "2022-09-09 00:13:58.084254: I tensorflow/core/common_runtime/bfc_allocator.cc:1083] InUse at 70cba2400 of size 256 next 35\n",
      "2022-09-09 00:13:58.084256: I tensorflow/core/common_runtime/bfc_allocator.cc:1083] InUse at 70cba2500 of size 256 next 36\n",
      "2022-09-09 00:13:58.084258: I tensorflow/core/common_runtime/bfc_allocator.cc:1083] InUse at 70cba2600 of size 2048 next 39\n",
      "2022-09-09 00:13:58.084260: I tensorflow/core/common_runtime/bfc_allocator.cc:1083] InUse at 70cba2e00 of size 256 next 40\n",
      "2022-09-09 00:13:58.084262: I tensorflow/core/common_runtime/bfc_allocator.cc:1083] InUse at 70cba2f00 of size 256 next 41\n",
      "2022-09-09 00:13:58.084264: I tensorflow/core/common_runtime/bfc_allocator.cc:1083] InUse at 70cba3000 of size 3584 next 6\n",
      "2022-09-09 00:13:58.084266: I tensorflow/core/common_runtime/bfc_allocator.cc:1083] InUse at 70cba3e00 of size 6912 next 7\n",
      "2022-09-09 00:13:58.084269: I tensorflow/core/common_runtime/bfc_allocator.cc:1083] InUse at 70cba5900 of size 2048 next 42\n",
      "2022-09-09 00:13:58.084288: I tensorflow/core/common_runtime/bfc_allocator.cc:1083] InUse at 70cba6100 of size 2048 next 46\n",
      "2022-09-09 00:13:58.084290: I tensorflow/core/common_runtime/bfc_allocator.cc:1083] InUse at 70cba6900 of size 2048 next 48\n",
      "2022-09-09 00:13:58.084293: I tensorflow/core/common_runtime/bfc_allocator.cc:1083] InUse at 70cba7100 of size 2048 next 50\n",
      "2022-09-09 00:13:58.084295: I tensorflow/core/common_runtime/bfc_allocator.cc:1083] InUse at 70cba7900 of size 256 next 52\n",
      "2022-09-09 00:13:58.084297: I tensorflow/core/common_runtime/bfc_allocator.cc:1083] InUse at 70cba7a00 of size 256 next 53\n",
      "2022-09-09 00:13:58.084300: I tensorflow/core/common_runtime/bfc_allocator.cc:1083] InUse at 70cba7b00 of size 16384 next 54\n",
      "2022-09-09 00:13:58.084302: I tensorflow/core/common_runtime/bfc_allocator.cc:1083] InUse at 70cbabb00 of size 256 next 57\n",
      "2022-09-09 00:13:58.084304: I tensorflow/core/common_runtime/bfc_allocator.cc:1083] InUse at 70cbabc00 of size 256 next 58\n",
      "2022-09-09 00:13:58.084307: I tensorflow/core/common_runtime/bfc_allocator.cc:1083] InUse at 70cbabd00 of size 16384 next 59\n",
      "2022-09-09 00:13:58.084309: I tensorflow/core/common_runtime/bfc_allocator.cc:1083] InUse at 70cbafd00 of size 256 next 62\n",
      "2022-09-09 00:13:58.084311: I tensorflow/core/common_runtime/bfc_allocator.cc:1083] InUse at 70cbafe00 of size 256 next 63\n",
      "2022-09-09 00:13:58.084313: I tensorflow/core/common_runtime/bfc_allocator.cc:1083] InUse at 70cbaff00 of size 256 next 64\n",
      "2022-09-09 00:13:58.084316: I tensorflow/core/common_runtime/bfc_allocator.cc:1083] InUse at 70cbb0000 of size 256 next 65\n",
      "2022-09-09 00:13:58.084318: I tensorflow/core/common_runtime/bfc_allocator.cc:1083] InUse at 70cbb0100 of size 256 next 68\n",
      "2022-09-09 00:13:58.084320: I tensorflow/core/common_runtime/bfc_allocator.cc:1083] InUse at 70cbb0200 of size 256 next 69\n",
      "2022-09-09 00:13:58.084322: I tensorflow/core/common_runtime/bfc_allocator.cc:1083] InUse at 70cbb0300 of size 256 next 70\n",
      "2022-09-09 00:13:58.084324: I tensorflow/core/common_runtime/bfc_allocator.cc:1083] InUse at 70cbb0400 of size 2048 next 95\n",
      "2022-09-09 00:13:58.084327: I tensorflow/core/common_runtime/bfc_allocator.cc:1083] InUse at 70cbb0c00 of size 2048 next 97\n",
      "2022-09-09 00:13:58.084329: I tensorflow/core/common_runtime/bfc_allocator.cc:1083] InUse at 70cbb1400 of size 2048 next 99\n",
      "2022-09-09 00:13:58.084331: I tensorflow/core/common_runtime/bfc_allocator.cc:1083] InUse at 70cbb1c00 of size 256 next 106\n",
      "2022-09-09 00:13:58.084333: I tensorflow/core/common_runtime/bfc_allocator.cc:1083] InUse at 70cbb1d00 of size 256 next 109\n",
      "2022-09-09 00:13:58.084336: I tensorflow/core/common_runtime/bfc_allocator.cc:1083] InUse at 70cbb1e00 of size 256 next 110\n",
      "2022-09-09 00:13:58.084338: I tensorflow/core/common_runtime/bfc_allocator.cc:1083] Free  at 70cbb1f00 of size 7168 next 73\n",
      "2022-09-09 00:13:58.084340: I tensorflow/core/common_runtime/bfc_allocator.cc:1083] InUse at 70cbb3b00 of size 6912 next 74\n",
      "2022-09-09 00:13:58.084342: I tensorflow/core/common_runtime/bfc_allocator.cc:1083] InUse at 70cbb5600 of size 256 next 71\n",
      "2022-09-09 00:13:58.084345: I tensorflow/core/common_runtime/bfc_allocator.cc:1083] InUse at 70cbb5700 of size 256 next 72\n",
      "2022-09-09 00:13:58.084347: I tensorflow/core/common_runtime/bfc_allocator.cc:1083] InUse at 70cbb5800 of size 512 next 76\n",
      "2022-09-09 00:13:58.084349: I tensorflow/core/common_runtime/bfc_allocator.cc:1083] InUse at 70cbb5a00 of size 512 next 79\n",
      "2022-09-09 00:13:58.084351: I tensorflow/core/common_runtime/bfc_allocator.cc:1083] InUse at 70cbb5c00 of size 1024 next 81\n",
      "2022-09-09 00:13:58.084354: I tensorflow/core/common_runtime/bfc_allocator.cc:1083] InUse at 70cbb6000 of size 1024 next 84\n",
      "2022-09-09 00:13:58.084356: I tensorflow/core/common_runtime/bfc_allocator.cc:1083] InUse at 70cbb6400 of size 1024 next 87\n",
      "2022-09-09 00:13:58.084358: I tensorflow/core/common_runtime/bfc_allocator.cc:1083] InUse at 70cbb6800 of size 2048 next 88\n",
      "2022-09-09 00:13:58.084360: I tensorflow/core/common_runtime/bfc_allocator.cc:1083] InUse at 70cbb7000 of size 2048 next 92\n",
      "2022-09-09 00:13:58.084362: I tensorflow/core/common_runtime/bfc_allocator.cc:1083] InUse at 70cbb7800 of size 2048 next 66\n",
      "2022-09-09 00:13:58.084365: I tensorflow/core/common_runtime/bfc_allocator.cc:1083] InUse at 70cbb8000 of size 16384 next 67\n",
      "2022-09-09 00:13:58.084367: I tensorflow/core/common_runtime/bfc_allocator.cc:1083] Free  at 70cbbc000 of size 203008 next 12\n",
      "2022-09-09 00:13:58.084369: I tensorflow/core/common_runtime/bfc_allocator.cc:1083] InUse at 70cbed900 of size 147456 next 11\n",
      "2022-09-09 00:13:58.084372: I tensorflow/core/common_runtime/bfc_allocator.cc:1083] InUse at 70cc11900 of size 16384 next 102\n",
      "2022-09-09 00:13:58.084374: I tensorflow/core/common_runtime/bfc_allocator.cc:1083] InUse at 70cc15900 of size 16384 next 105\n",
      "2022-09-09 00:13:58.084376: I tensorflow/core/common_runtime/bfc_allocator.cc:1083] Free  at 70cc19900 of size 32768 next 108\n",
      "2022-09-09 00:13:58.084378: I tensorflow/core/common_runtime/bfc_allocator.cc:1083] InUse at 70cc21900 of size 16384 next 107\n",
      "2022-09-09 00:13:58.084394: I tensorflow/core/common_runtime/bfc_allocator.cc:1083] Free  at 70cc25900 of size 65536 next 75\n",
      "2022-09-09 00:13:58.084396: I tensorflow/core/common_runtime/bfc_allocator.cc:1083] InUse at 70cc35900 of size 147456 next 16\n",
      "2022-09-09 00:13:58.084398: I tensorflow/core/common_runtime/bfc_allocator.cc:1083] InUse at 70cc59900 of size 294912 next 15\n",
      "2022-09-09 00:13:58.084400: I tensorflow/core/common_runtime/bfc_allocator.cc:1083] Free  at 70cca1900 of size 589824 next 78\n",
      "2022-09-09 00:13:58.084419: I tensorflow/core/common_runtime/bfc_allocator.cc:1083] InUse at 70cd31900 of size 294912 next 77\n",
      "2022-09-09 00:13:58.084421: I tensorflow/core/common_runtime/bfc_allocator.cc:1083] Free  at 70cd79900 of size 294912 next 22\n",
      "2022-09-09 00:13:58.084424: I tensorflow/core/common_runtime/bfc_allocator.cc:1083] InUse at 70cdc1900 of size 589824 next 21\n",
      "2022-09-09 00:13:58.084426: I tensorflow/core/common_runtime/bfc_allocator.cc:1083] Free  at 70ce51900 of size 589824 next 80\n",
      "2022-09-09 00:13:58.084428: I tensorflow/core/common_runtime/bfc_allocator.cc:1083] InUse at 70cee1900 of size 589824 next 26\n",
      "2022-09-09 00:13:58.084431: I tensorflow/core/common_runtime/bfc_allocator.cc:1083] InUse at 70cf71900 of size 1179648 next 25\n",
      "2022-09-09 00:13:58.084433: I tensorflow/core/common_runtime/bfc_allocator.cc:1083] Free  at 70d091900 of size 2359296 next 83\n",
      "2022-09-09 00:13:58.084435: I tensorflow/core/common_runtime/bfc_allocator.cc:1083] InUse at 70d2d1900 of size 1179648 next 82\n",
      "2022-09-09 00:13:58.084438: I tensorflow/core/common_runtime/bfc_allocator.cc:1083] Free  at 70d3f1900 of size 1179648 next 32\n",
      "2022-09-09 00:13:58.084440: I tensorflow/core/common_runtime/bfc_allocator.cc:1083] InUse at 70d511900 of size 2359296 next 31\n",
      "2022-09-09 00:13:58.084443: I tensorflow/core/common_runtime/bfc_allocator.cc:1083] InUse at 70d751900 of size 2359296 next 34\n",
      "2022-09-09 00:13:58.084445: I tensorflow/core/common_runtime/bfc_allocator.cc:1083] Free  at 70d991900 of size 2359296 next 85\n",
      "2022-09-09 00:13:58.084447: I tensorflow/core/common_runtime/bfc_allocator.cc:1083] InUse at 70dbd1900 of size 2359296 next 38\n",
      "2022-09-09 00:13:58.084449: I tensorflow/core/common_runtime/bfc_allocator.cc:1083] InUse at 70de11900 of size 4718592 next 37\n",
      "2022-09-09 00:13:58.084452: I tensorflow/core/common_runtime/bfc_allocator.cc:1083] InUse at 70e291900 of size 2359296 next 86\n",
      "2022-09-09 00:13:58.084454: I tensorflow/core/common_runtime/bfc_allocator.cc:1083] Free  at 70e4d1900 of size 9437184 next 90\n",
      "2022-09-09 00:13:58.084456: I tensorflow/core/common_runtime/bfc_allocator.cc:1083] InUse at 70edd1900 of size 7077888 next 44\n",
      "2022-09-09 00:13:58.084459: I tensorflow/core/common_runtime/bfc_allocator.cc:1083] InUse at 70f491900 of size 9437184 next 43\n",
      "2022-09-09 00:13:58.084461: I tensorflow/core/common_runtime/bfc_allocator.cc:1083] InUse at 70fd91900 of size 9437184 next 45\n",
      "2022-09-09 00:13:58.084463: I tensorflow/core/common_runtime/bfc_allocator.cc:1083] InUse at 710691900 of size 9437184 next 47\n",
      "2022-09-09 00:13:58.084465: I tensorflow/core/common_runtime/bfc_allocator.cc:1083] InUse at 710f91900 of size 9437184 next 49\n",
      "2022-09-09 00:13:58.084468: I tensorflow/core/common_runtime/bfc_allocator.cc:1083] InUse at 711891900 of size 9437184 next 51\n",
      "2022-09-09 00:13:58.084470: I tensorflow/core/common_runtime/bfc_allocator.cc:1083] Free  at 712191900 of size 9437184 next 91\n",
      "2022-09-09 00:13:58.084472: I tensorflow/core/common_runtime/bfc_allocator.cc:1083] InUse at 712a91900 of size 9437184 next 89\n",
      "2022-09-09 00:13:58.084474: I tensorflow/core/common_runtime/bfc_allocator.cc:1083] InUse at 713391900 of size 9437184 next 93\n",
      "2022-09-09 00:13:58.084476: I tensorflow/core/common_runtime/bfc_allocator.cc:1083] InUse at 713c91900 of size 9437184 next 94\n",
      "2022-09-09 00:13:58.084479: I tensorflow/core/common_runtime/bfc_allocator.cc:1083] InUse at 714591900 of size 9437184 next 96\n",
      "2022-09-09 00:13:58.084481: I tensorflow/core/common_runtime/bfc_allocator.cc:1083] InUse at 714e91900 of size 9437184 next 98\n",
      "2022-09-09 00:13:58.084483: I tensorflow/core/common_runtime/bfc_allocator.cc:1083] Free  at 715791900 of size 77594624 next 61\n",
      "2022-09-09 00:13:58.084485: I tensorflow/core/common_runtime/bfc_allocator.cc:1083] InUse at 71a191900 of size 67108864 next 60\n",
      "2022-09-09 00:13:58.084488: I tensorflow/core/common_runtime/bfc_allocator.cc:1083] Free  at 71e191900 of size 67108864 next 104\n",
      "2022-09-09 00:13:58.084490: I tensorflow/core/common_runtime/bfc_allocator.cc:1083] InUse at 722191900 of size 67108864 next 103\n",
      "2022-09-09 00:13:58.084492: I tensorflow/core/common_runtime/bfc_allocator.cc:1083] Free  at 726191900 of size 67108864 next 56\n",
      "2022-09-09 00:13:58.084495: I tensorflow/core/common_runtime/bfc_allocator.cc:1083] InUse at 72a191900 of size 201326592 next 55\n",
      "2022-09-09 00:13:58.084497: I tensorflow/core/common_runtime/bfc_allocator.cc:1083] Free  at 736191900 of size 201326592 next 101\n",
      "2022-09-09 00:13:58.084499: I tensorflow/core/common_runtime/bfc_allocator.cc:1083] InUse at 742191900 of size 201326592 next 100\n",
      "2022-09-09 00:13:58.084515: I tensorflow/core/common_runtime/bfc_allocator.cc:1083] Free  at 74e191900 of size 1119361536 next 18446744073709551615\n",
      "2022-09-09 00:13:58.084517: I tensorflow/core/common_runtime/bfc_allocator.cc:1088]      Summary of in-use Chunks by size: \n",
      "2022-09-09 00:13:58.084520: I tensorflow/core/common_runtime/bfc_allocator.cc:1091] 35 Chunks of size 256 totalling 8.8KiB\n",
      "2022-09-09 00:13:58.084523: I tensorflow/core/common_runtime/bfc_allocator.cc:1091] 4 Chunks of size 512 totalling 2.0KiB\n",
      "2022-09-09 00:13:58.084525: I tensorflow/core/common_runtime/bfc_allocator.cc:1091] 6 Chunks of size 1024 totalling 6.0KiB\n",
      "2022-09-09 00:13:58.084527: I tensorflow/core/common_runtime/bfc_allocator.cc:1091] 1 Chunks of size 1280 totalling 1.2KiB\n",
      "2022-09-09 00:13:58.084530: I tensorflow/core/common_runtime/bfc_allocator.cc:1091] 11 Chunks of size 2048 totalling 22.0KiB\n",
      "2022-09-09 00:13:58.084533: I tensorflow/core/common_runtime/bfc_allocator.cc:1091] 1 Chunks of size 3584 totalling 3.5KiB\n",
      "2022-09-09 00:13:58.084535: I tensorflow/core/common_runtime/bfc_allocator.cc:1091] 2 Chunks of size 6912 totalling 13.5KiB\n",
      "2022-09-09 00:13:58.084538: I tensorflow/core/common_runtime/bfc_allocator.cc:1091] 6 Chunks of size 16384 totalling 96.0KiB\n",
      "2022-09-09 00:13:58.084540: I tensorflow/core/common_runtime/bfc_allocator.cc:1091] 2 Chunks of size 147456 totalling 288.0KiB\n",
      "2022-09-09 00:13:58.084543: I tensorflow/core/common_runtime/bfc_allocator.cc:1091] 2 Chunks of size 294912 totalling 576.0KiB\n",
      "2022-09-09 00:13:58.084545: I tensorflow/core/common_runtime/bfc_allocator.cc:1091] 2 Chunks of size 589824 totalling 1.12MiB\n",
      "2022-09-09 00:13:58.084548: I tensorflow/core/common_runtime/bfc_allocator.cc:1091] 2 Chunks of size 1179648 totalling 2.25MiB\n",
      "2022-09-09 00:13:58.084550: I tensorflow/core/common_runtime/bfc_allocator.cc:1091] 4 Chunks of size 2359296 totalling 9.00MiB\n",
      "2022-09-09 00:13:58.084552: I tensorflow/core/common_runtime/bfc_allocator.cc:1091] 1 Chunks of size 4718592 totalling 4.50MiB\n",
      "2022-09-09 00:13:58.084555: I tensorflow/core/common_runtime/bfc_allocator.cc:1091] 1 Chunks of size 7077888 totalling 6.75MiB\n",
      "2022-09-09 00:13:58.084557: I tensorflow/core/common_runtime/bfc_allocator.cc:1091] 10 Chunks of size 9437184 totalling 90.00MiB\n",
      "2022-09-09 00:13:58.084560: I tensorflow/core/common_runtime/bfc_allocator.cc:1091] 2 Chunks of size 67108864 totalling 128.00MiB\n",
      "2022-09-09 00:13:58.084562: I tensorflow/core/common_runtime/bfc_allocator.cc:1091] 2 Chunks of size 201326592 totalling 384.00MiB\n",
      "2022-09-09 00:13:58.084565: I tensorflow/core/common_runtime/bfc_allocator.cc:1095] Sum Total of in-use chunks: 626.62MiB\n",
      "2022-09-09 00:13:58.084567: I tensorflow/core/common_runtime/bfc_allocator.cc:1097] total_region_allocated_bytes_: 2216112896 memory_limit_: 2216112948 available bytes: 52 curr_region_allocation_bytes_: 4432226304\n",
      "2022-09-09 00:13:58.084572: I tensorflow/core/common_runtime/bfc_allocator.cc:1103] Stats: \n",
      "Limit:                      2216112948\n",
      "InUse:                       657056768\n",
      "MaxInUse:                   1273529344\n",
      "NumAllocs:                         192\n",
      "MaxAllocSize:                946176000\n",
      "Reserved:                            0\n",
      "PeakReserved:                        0\n",
      "LargestFreeBlock:                    0\n",
      "\n",
      "2022-09-09 00:13:58.084578: W tensorflow/core/common_runtime/bfc_allocator.cc:491] *******___****__****__**********________**********__________________________________________________\n"
     ]
    },
    {
     "ename": "InternalError",
     "evalue": "Failed copying input tensor from /job:localhost/replica:0/task:0/device:CPU:0 to /job:localhost/replica:0/task:0/device:GPU:0 in order to run _EagerConst: Dst tensor is not initialized.",
     "output_type": "error",
     "traceback": [
      "\u001b[0;31m---------------------------------------------------------------------------\u001b[0m",
      "\u001b[0;31mInternalError\u001b[0m                             Traceback (most recent call last)",
      "\u001b[1;32m/home/machadom729/workplace/bootcamp_igti/arq_ml/desafio1.ipynb Cell 6\u001b[0m in \u001b[0;36m<cell line: 1>\u001b[0;34m()\u001b[0m\n\u001b[0;32m----> <a href='vscode-notebook-cell://wsl%2Bubuntu/home/machadom729/workplace/bootcamp_igti/arq_ml/desafio1.ipynb#X11sdnNjb2RlLXJlbW90ZQ%3D%3D?line=0'>1</a>\u001b[0m x_train \u001b[39m=\u001b[39m tf\u001b[39m.\u001b[39;49mconvert_to_tensor(x_train)\n",
      "File \u001b[0;32m~/.local/lib/python3.9/site-packages/tensorflow/python/util/traceback_utils.py:153\u001b[0m, in \u001b[0;36mfilter_traceback.<locals>.error_handler\u001b[0;34m(*args, **kwargs)\u001b[0m\n\u001b[1;32m    151\u001b[0m \u001b[39mexcept\u001b[39;00m \u001b[39mException\u001b[39;00m \u001b[39mas\u001b[39;00m e:\n\u001b[1;32m    152\u001b[0m   filtered_tb \u001b[39m=\u001b[39m _process_traceback_frames(e\u001b[39m.\u001b[39m__traceback__)\n\u001b[0;32m--> 153\u001b[0m   \u001b[39mraise\u001b[39;00m e\u001b[39m.\u001b[39mwith_traceback(filtered_tb) \u001b[39mfrom\u001b[39;00m \u001b[39mNone\u001b[39m\n\u001b[1;32m    154\u001b[0m \u001b[39mfinally\u001b[39;00m:\n\u001b[1;32m    155\u001b[0m   \u001b[39mdel\u001b[39;00m filtered_tb\n",
      "File \u001b[0;32m~/.local/lib/python3.9/site-packages/tensorflow/python/framework/constant_op.py:102\u001b[0m, in \u001b[0;36mconvert_to_eager_tensor\u001b[0;34m(value, ctx, dtype)\u001b[0m\n\u001b[1;32m    100\u001b[0m     dtype \u001b[39m=\u001b[39m dtypes\u001b[39m.\u001b[39mas_dtype(dtype)\u001b[39m.\u001b[39mas_datatype_enum\n\u001b[1;32m    101\u001b[0m ctx\u001b[39m.\u001b[39mensure_initialized()\n\u001b[0;32m--> 102\u001b[0m \u001b[39mreturn\u001b[39;00m ops\u001b[39m.\u001b[39;49mEagerTensor(value, ctx\u001b[39m.\u001b[39;49mdevice_name, dtype)\n",
      "\u001b[0;31mInternalError\u001b[0m: Failed copying input tensor from /job:localhost/replica:0/task:0/device:CPU:0 to /job:localhost/replica:0/task:0/device:GPU:0 in order to run _EagerConst: Dst tensor is not initialized."
     ]
    }
   ],
   "source": [
    "x_train = tf.convert_to_tensor(x_train)\n"
   ]
  },
  {
   "cell_type": "code",
   "execution_count": null,
   "metadata": {},
   "outputs": [],
   "source": [
    "x_test = tf.convert_to_tensor(x_test)\n"
   ]
  },
  {
   "cell_type": "code",
   "execution_count": null,
   "metadata": {},
   "outputs": [],
   "source": [
    "y_train = tf.convert_to_tensor(y_train)\n"
   ]
  },
  {
   "cell_type": "code",
   "execution_count": null,
   "metadata": {},
   "outputs": [],
   "source": [
    "y_test = tf.convert_to_tensor(y_test)"
   ]
  },
  {
   "cell_type": "code",
   "execution_count": 13,
   "metadata": {},
   "outputs": [],
   "source": [
    "model = VGG16(\n",
    "    weights=None,\n",
    "    input_shape = (128,220,3),\n",
    "    classes = 1,\n",
    "    classifier_activation=\"sigmoid\",\n",
    ")\n",
    "model.compile(optimizer='adam', loss='binary_crossentropy', metrics=['accuracy'])"
   ]
  },
  {
   "cell_type": "code",
   "execution_count": 10,
   "metadata": {},
   "outputs": [
    {
     "name": "stderr",
     "output_type": "stream",
     "text": [
      "2022-09-09 00:10:08.205616: W tensorflow/core/framework/cpu_allocator_impl.cc:82] Allocation of 946176000 exceeds 10% of free system memory.\n"
     ]
    },
    {
     "ename": "ValueError",
     "evalue": "Failed to convert a NumPy array to a Tensor (Unsupported object type builtin_function_or_method).",
     "output_type": "error",
     "traceback": [
      "\u001b[0;31m---------------------------------------------------------------------------\u001b[0m",
      "\u001b[0;31mValueError\u001b[0m                                Traceback (most recent call last)",
      "\u001b[1;32m/home/machadom729/workplace/bootcamp_igti/arq_ml/desafio1.ipynb Cell 8\u001b[0m in \u001b[0;36m<cell line: 1>\u001b[0;34m()\u001b[0m\n\u001b[0;32m----> <a href='vscode-notebook-cell://wsl%2Bubuntu/home/machadom729/workplace/bootcamp_igti/arq_ml/desafio1.ipynb#W6sdnNjb2RlLXJlbW90ZQ%3D%3D?line=0'>1</a>\u001b[0m model\u001b[39m.\u001b[39;49mfit(x_train, y_train, epochs\u001b[39m=\u001b[39;49m\u001b[39m10\u001b[39;49m, batch_size\u001b[39m=\u001b[39;49m\u001b[39m16\u001b[39;49m, validation_data\u001b[39m=\u001b[39;49m(x_test, y_test))\n",
      "File \u001b[0;32m~/.local/lib/python3.9/site-packages/keras/utils/traceback_utils.py:67\u001b[0m, in \u001b[0;36mfilter_traceback.<locals>.error_handler\u001b[0;34m(*args, **kwargs)\u001b[0m\n\u001b[1;32m     65\u001b[0m \u001b[39mexcept\u001b[39;00m \u001b[39mException\u001b[39;00m \u001b[39mas\u001b[39;00m e:  \u001b[39m# pylint: disable=broad-except\u001b[39;00m\n\u001b[1;32m     66\u001b[0m   filtered_tb \u001b[39m=\u001b[39m _process_traceback_frames(e\u001b[39m.\u001b[39m__traceback__)\n\u001b[0;32m---> 67\u001b[0m   \u001b[39mraise\u001b[39;00m e\u001b[39m.\u001b[39mwith_traceback(filtered_tb) \u001b[39mfrom\u001b[39;00m \u001b[39mNone\u001b[39m\n\u001b[1;32m     68\u001b[0m \u001b[39mfinally\u001b[39;00m:\n\u001b[1;32m     69\u001b[0m   \u001b[39mdel\u001b[39;00m filtered_tb\n",
      "File \u001b[0;32m~/.local/lib/python3.9/site-packages/tensorflow/python/framework/constant_op.py:102\u001b[0m, in \u001b[0;36mconvert_to_eager_tensor\u001b[0;34m(value, ctx, dtype)\u001b[0m\n\u001b[1;32m    100\u001b[0m     dtype \u001b[39m=\u001b[39m dtypes\u001b[39m.\u001b[39mas_dtype(dtype)\u001b[39m.\u001b[39mas_datatype_enum\n\u001b[1;32m    101\u001b[0m ctx\u001b[39m.\u001b[39mensure_initialized()\n\u001b[0;32m--> 102\u001b[0m \u001b[39mreturn\u001b[39;00m ops\u001b[39m.\u001b[39;49mEagerTensor(value, ctx\u001b[39m.\u001b[39;49mdevice_name, dtype)\n",
      "\u001b[0;31mValueError\u001b[0m: Failed to convert a NumPy array to a Tensor (Unsupported object type builtin_function_or_method)."
     ]
    }
   ],
   "source": [
    "model.fit(x_train, y_train, epochs=10, batch_size=16, validation_data=(x_test, y_test))"
   ]
  },
  {
   "cell_type": "code",
   "execution_count": 8,
   "metadata": {},
   "outputs": [
    {
     "name": "stdout",
     "output_type": "stream",
     "text": [
      "Thu Sep  8 14:55:23 2022       \n",
      "+-----------------------------------------------------------------------------+\n",
      "| NVIDIA-SMI 515.65.01    Driver Version: 512.59       CUDA Version: 11.6     |\n",
      "|-------------------------------+----------------------+----------------------+\n",
      "| GPU  Name        Persistence-M| Bus-Id        Disp.A | Volatile Uncorr. ECC |\n",
      "| Fan  Temp  Perf  Pwr:Usage/Cap|         Memory-Usage | GPU-Util  Compute M. |\n",
      "|                               |                      |               MIG M. |\n",
      "|===============================+======================+======================|\n",
      "|   0  NVIDIA GeForce ...  On   | 00000000:01:00.0  On |                  N/A |\n",
      "| 40%   31C    P8    10W /  75W |   2957MiB /  4096MiB |     18%      Default |\n",
      "|                               |                      |                  N/A |\n",
      "+-------------------------------+----------------------+----------------------+\n",
      "                                                                               \n",
      "+-----------------------------------------------------------------------------+\n",
      "| Processes:                                                                  |\n",
      "|  GPU   GI   CI        PID   Type   Process name                  GPU Memory |\n",
      "|        ID   ID                                                   Usage      |\n",
      "|=============================================================================|\n",
      "|    0   N/A  N/A       425      C   /python3.9                      N/A      |\n",
      "+-----------------------------------------------------------------------------+\n"
     ]
    }
   ],
   "source": [
    "!nvidia-smi"
   ]
  }
 ],
 "metadata": {
  "kernelspec": {
   "display_name": "Python 3.9.12 ('base')",
   "language": "python",
   "name": "python3"
  },
  "language_info": {
   "codemirror_mode": {
    "name": "ipython",
    "version": 3
   },
   "file_extension": ".py",
   "mimetype": "text/x-python",
   "name": "python",
   "nbconvert_exporter": "python",
   "pygments_lexer": "ipython3",
   "version": "3.9.12"
  },
  "orig_nbformat": 4,
  "vscode": {
   "interpreter": {
    "hash": "40d3a090f54c6569ab1632332b64b2c03c39dcf918b08424e98f38b5ae0af88f"
   }
  }
 },
 "nbformat": 4,
 "nbformat_minor": 2
}
