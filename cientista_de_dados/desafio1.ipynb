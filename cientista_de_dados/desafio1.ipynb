{
 "cells": [
  {
   "cell_type": "code",
   "execution_count": 9,
   "metadata": {
    "vscode": {
     "languageId": "r"
    }
   },
   "outputs": [
    {
     "data": {
      "text/html": [
       "<table class=\"dataframe\">\n",
       "<caption>A data.frame: 29 × 6</caption>\n",
       "<thead>\n",
       "\t<tr><th scope=col>Consumo</th><th scope=col>Estado_Civil</th><th scope=col>Genero</th><th scope=col>Idade</th><th scope=col>Renda_Mensal</th><th scope=col>Possui_Imovel_Proprio</th></tr>\n",
       "\t<tr><th scope=col>&lt;dbl&gt;</th><th scope=col>&lt;chr&gt;</th><th scope=col>&lt;chr&gt;</th><th scope=col>&lt;dbl&gt;</th><th scope=col>&lt;dbl&gt;</th><th scope=col>&lt;chr&gt;</th></tr>\n",
       "</thead>\n",
       "<tbody>\n",
       "\t<tr><td> 2595</td><td>Divorciado</td><td>Feminino </td><td>20.25858</td><td>1985.882</td><td>Sim</td></tr>\n",
       "\t<tr><td> 8470</td><td>Casado    </td><td>Feminino </td><td>32.11184</td><td>3769.248</td><td>Sim</td></tr>\n",
       "\t<tr><td> 4007</td><td>Divorciado</td><td>Masculino</td><td>31.74676</td><td>2291.881</td><td>Nao</td></tr>\n",
       "\t<tr><td> 6734</td><td>Casado    </td><td>Feminino </td><td>37.81985</td><td>2390.403</td><td>Sim</td></tr>\n",
       "\t<tr><td>33628</td><td>Solteiro  </td><td>Feminino </td><td>71.20830</td><td>8534.717</td><td>Nao</td></tr>\n",
       "\t<tr><td> 3903</td><td>Divorciado</td><td>Feminino </td><td>29.71764</td><td>2495.890</td><td>Nao</td></tr>\n",
       "\t<tr><td>13444</td><td>Solteiro  </td><td>Feminino </td><td>44.80939</td><td>5714.555</td><td>Nao</td></tr>\n",
       "\t<tr><td>12560</td><td>Solteiro  </td><td>Feminino </td><td>35.83761</td><td>5832.634</td><td>Sim</td></tr>\n",
       "\t<tr><td>31176</td><td>Solteiro  </td><td>Feminino </td><td>58.83856</td><td>6882.899</td><td>Sim</td></tr>\n",
       "\t<tr><td> 5435</td><td>Casado    </td><td>Masculino</td><td>39.91780</td><td>2099.319</td><td>Nao</td></tr>\n",
       "\t<tr><td>26736</td><td>Solteiro  </td><td>Masculino</td><td>58.05506</td><td>6342.509</td><td>Nao</td></tr>\n",
       "\t<tr><td> 3728</td><td>Divorciado</td><td>Masculino</td><td>21.77821</td><td>1941.148</td><td>Nao</td></tr>\n",
       "\t<tr><td> 8684</td><td>Solteiro  </td><td>Feminino </td><td>31.74676</td><td>3575.981</td><td>Nao</td></tr>\n",
       "\t<tr><td> 8356</td><td>Solteiro  </td><td>Feminino </td><td>37.81985</td><td>3589.237</td><td>Nao</td></tr>\n",
       "\t<tr><td>36936</td><td>Solteiro  </td><td>Masculino</td><td>71.20830</td><td>8534.717</td><td>Nao</td></tr>\n",
       "\t<tr><td> 3744</td><td>Divorciado</td><td>Masculino</td><td>18.23853</td><td>2740.470</td><td>Sim</td></tr>\n",
       "\t<tr><td>30420</td><td>Solteiro  </td><td>Feminino </td><td>61.53872</td><td>5714.555</td><td>Nao</td></tr>\n",
       "\t<tr><td> 5958</td><td>Divorciado</td><td>Masculino</td><td>35.83761</td><td>2390.403</td><td>Sim</td></tr>\n",
       "\t<tr><td> 1019</td><td>Divorciado</td><td>Feminino </td><td>20.25858</td><td>1635.646</td><td>Nao</td></tr>\n",
       "\t<tr><td>11688</td><td>Solteiro  </td><td>Feminino </td><td>39.91780</td><td>4364.565</td><td>Nao</td></tr>\n",
       "\t<tr><td> 4442</td><td>Casado    </td><td>Masculino</td><td>37.91488</td><td>1905.538</td><td>Nao</td></tr>\n",
       "\t<tr><td> 2640</td><td>Solteiro  </td><td>Masculino</td><td>23.35685</td><td>2338.309</td><td>Sim</td></tr>\n",
       "\t<tr><td>23888</td><td>Solteiro  </td><td>Masculino</td><td>54.99581</td><td>5832.634</td><td>Sim</td></tr>\n",
       "\t<tr><td>25844</td><td>Solteiro  </td><td>Masculino</td><td>61.29739</td><td>6882.899</td><td>Nao</td></tr>\n",
       "\t<tr><td> 7430</td><td>Casado    </td><td>Masculino</td><td>34.58739</td><td>3842.536</td><td>Nao</td></tr>\n",
       "\t<tr><td>10276</td><td>Solteiro  </td><td>Feminino </td><td>29.71764</td><td>4919.147</td><td>Nao</td></tr>\n",
       "\t<tr><td> 3381</td><td>Casado    </td><td>Feminino </td><td>19.25850</td><td>2063.014</td><td>Nao</td></tr>\n",
       "\t<tr><td> 3512</td><td>Casado    </td><td>Masculino</td><td>20.25858</td><td>2380.558</td><td>Nao</td></tr>\n",
       "\t<tr><td> 4957</td><td>Casado    </td><td>Feminino </td><td>37.80806</td><td>1985.882</td><td>Nao</td></tr>\n",
       "</tbody>\n",
       "</table>\n"
      ],
      "text/latex": [
       "A data.frame: 29 × 6\n",
       "\\begin{tabular}{llllll}\n",
       " Consumo & Estado\\_Civil & Genero & Idade & Renda\\_Mensal & Possui\\_Imovel\\_Proprio\\\\\n",
       " <dbl> & <chr> & <chr> & <dbl> & <dbl> & <chr>\\\\\n",
       "\\hline\n",
       "\t  2595 & Divorciado & Feminino  & 20.25858 & 1985.882 & Sim\\\\\n",
       "\t  8470 & Casado     & Feminino  & 32.11184 & 3769.248 & Sim\\\\\n",
       "\t  4007 & Divorciado & Masculino & 31.74676 & 2291.881 & Nao\\\\\n",
       "\t  6734 & Casado     & Feminino  & 37.81985 & 2390.403 & Sim\\\\\n",
       "\t 33628 & Solteiro   & Feminino  & 71.20830 & 8534.717 & Nao\\\\\n",
       "\t  3903 & Divorciado & Feminino  & 29.71764 & 2495.890 & Nao\\\\\n",
       "\t 13444 & Solteiro   & Feminino  & 44.80939 & 5714.555 & Nao\\\\\n",
       "\t 12560 & Solteiro   & Feminino  & 35.83761 & 5832.634 & Sim\\\\\n",
       "\t 31176 & Solteiro   & Feminino  & 58.83856 & 6882.899 & Sim\\\\\n",
       "\t  5435 & Casado     & Masculino & 39.91780 & 2099.319 & Nao\\\\\n",
       "\t 26736 & Solteiro   & Masculino & 58.05506 & 6342.509 & Nao\\\\\n",
       "\t  3728 & Divorciado & Masculino & 21.77821 & 1941.148 & Nao\\\\\n",
       "\t  8684 & Solteiro   & Feminino  & 31.74676 & 3575.981 & Nao\\\\\n",
       "\t  8356 & Solteiro   & Feminino  & 37.81985 & 3589.237 & Nao\\\\\n",
       "\t 36936 & Solteiro   & Masculino & 71.20830 & 8534.717 & Nao\\\\\n",
       "\t  3744 & Divorciado & Masculino & 18.23853 & 2740.470 & Sim\\\\\n",
       "\t 30420 & Solteiro   & Feminino  & 61.53872 & 5714.555 & Nao\\\\\n",
       "\t  5958 & Divorciado & Masculino & 35.83761 & 2390.403 & Sim\\\\\n",
       "\t  1019 & Divorciado & Feminino  & 20.25858 & 1635.646 & Nao\\\\\n",
       "\t 11688 & Solteiro   & Feminino  & 39.91780 & 4364.565 & Nao\\\\\n",
       "\t  4442 & Casado     & Masculino & 37.91488 & 1905.538 & Nao\\\\\n",
       "\t  2640 & Solteiro   & Masculino & 23.35685 & 2338.309 & Sim\\\\\n",
       "\t 23888 & Solteiro   & Masculino & 54.99581 & 5832.634 & Sim\\\\\n",
       "\t 25844 & Solteiro   & Masculino & 61.29739 & 6882.899 & Nao\\\\\n",
       "\t  7430 & Casado     & Masculino & 34.58739 & 3842.536 & Nao\\\\\n",
       "\t 10276 & Solteiro   & Feminino  & 29.71764 & 4919.147 & Nao\\\\\n",
       "\t  3381 & Casado     & Feminino  & 19.25850 & 2063.014 & Nao\\\\\n",
       "\t  3512 & Casado     & Masculino & 20.25858 & 2380.558 & Nao\\\\\n",
       "\t  4957 & Casado     & Feminino  & 37.80806 & 1985.882 & Nao\\\\\n",
       "\\end{tabular}\n"
      ],
      "text/markdown": [
       "\n",
       "A data.frame: 29 × 6\n",
       "\n",
       "| Consumo &lt;dbl&gt; | Estado_Civil &lt;chr&gt; | Genero &lt;chr&gt; | Idade &lt;dbl&gt; | Renda_Mensal &lt;dbl&gt; | Possui_Imovel_Proprio &lt;chr&gt; |\n",
       "|---|---|---|---|---|---|\n",
       "|  2595 | Divorciado | Feminino  | 20.25858 | 1985.882 | Sim |\n",
       "|  8470 | Casado     | Feminino  | 32.11184 | 3769.248 | Sim |\n",
       "|  4007 | Divorciado | Masculino | 31.74676 | 2291.881 | Nao |\n",
       "|  6734 | Casado     | Feminino  | 37.81985 | 2390.403 | Sim |\n",
       "| 33628 | Solteiro   | Feminino  | 71.20830 | 8534.717 | Nao |\n",
       "|  3903 | Divorciado | Feminino  | 29.71764 | 2495.890 | Nao |\n",
       "| 13444 | Solteiro   | Feminino  | 44.80939 | 5714.555 | Nao |\n",
       "| 12560 | Solteiro   | Feminino  | 35.83761 | 5832.634 | Sim |\n",
       "| 31176 | Solteiro   | Feminino  | 58.83856 | 6882.899 | Sim |\n",
       "|  5435 | Casado     | Masculino | 39.91780 | 2099.319 | Nao |\n",
       "| 26736 | Solteiro   | Masculino | 58.05506 | 6342.509 | Nao |\n",
       "|  3728 | Divorciado | Masculino | 21.77821 | 1941.148 | Nao |\n",
       "|  8684 | Solteiro   | Feminino  | 31.74676 | 3575.981 | Nao |\n",
       "|  8356 | Solteiro   | Feminino  | 37.81985 | 3589.237 | Nao |\n",
       "| 36936 | Solteiro   | Masculino | 71.20830 | 8534.717 | Nao |\n",
       "|  3744 | Divorciado | Masculino | 18.23853 | 2740.470 | Sim |\n",
       "| 30420 | Solteiro   | Feminino  | 61.53872 | 5714.555 | Nao |\n",
       "|  5958 | Divorciado | Masculino | 35.83761 | 2390.403 | Sim |\n",
       "|  1019 | Divorciado | Feminino  | 20.25858 | 1635.646 | Nao |\n",
       "| 11688 | Solteiro   | Feminino  | 39.91780 | 4364.565 | Nao |\n",
       "|  4442 | Casado     | Masculino | 37.91488 | 1905.538 | Nao |\n",
       "|  2640 | Solteiro   | Masculino | 23.35685 | 2338.309 | Sim |\n",
       "| 23888 | Solteiro   | Masculino | 54.99581 | 5832.634 | Sim |\n",
       "| 25844 | Solteiro   | Masculino | 61.29739 | 6882.899 | Nao |\n",
       "|  7430 | Casado     | Masculino | 34.58739 | 3842.536 | Nao |\n",
       "| 10276 | Solteiro   | Feminino  | 29.71764 | 4919.147 | Nao |\n",
       "|  3381 | Casado     | Feminino  | 19.25850 | 2063.014 | Nao |\n",
       "|  3512 | Casado     | Masculino | 20.25858 | 2380.558 | Nao |\n",
       "|  4957 | Casado     | Feminino  | 37.80806 | 1985.882 | Nao |\n",
       "\n"
      ],
      "text/plain": [
       "   Consumo Estado_Civil Genero    Idade    Renda_Mensal Possui_Imovel_Proprio\n",
       "1   2595   Divorciado   Feminino  20.25858 1985.882     Sim                  \n",
       "2   8470   Casado       Feminino  32.11184 3769.248     Sim                  \n",
       "3   4007   Divorciado   Masculino 31.74676 2291.881     Nao                  \n",
       "4   6734   Casado       Feminino  37.81985 2390.403     Sim                  \n",
       "5  33628   Solteiro     Feminino  71.20830 8534.717     Nao                  \n",
       "6   3903   Divorciado   Feminino  29.71764 2495.890     Nao                  \n",
       "7  13444   Solteiro     Feminino  44.80939 5714.555     Nao                  \n",
       "8  12560   Solteiro     Feminino  35.83761 5832.634     Sim                  \n",
       "9  31176   Solteiro     Feminino  58.83856 6882.899     Sim                  \n",
       "10  5435   Casado       Masculino 39.91780 2099.319     Nao                  \n",
       "11 26736   Solteiro     Masculino 58.05506 6342.509     Nao                  \n",
       "12  3728   Divorciado   Masculino 21.77821 1941.148     Nao                  \n",
       "13  8684   Solteiro     Feminino  31.74676 3575.981     Nao                  \n",
       "14  8356   Solteiro     Feminino  37.81985 3589.237     Nao                  \n",
       "15 36936   Solteiro     Masculino 71.20830 8534.717     Nao                  \n",
       "16  3744   Divorciado   Masculino 18.23853 2740.470     Sim                  \n",
       "17 30420   Solteiro     Feminino  61.53872 5714.555     Nao                  \n",
       "18  5958   Divorciado   Masculino 35.83761 2390.403     Sim                  \n",
       "19  1019   Divorciado   Feminino  20.25858 1635.646     Nao                  \n",
       "20 11688   Solteiro     Feminino  39.91780 4364.565     Nao                  \n",
       "21  4442   Casado       Masculino 37.91488 1905.538     Nao                  \n",
       "22  2640   Solteiro     Masculino 23.35685 2338.309     Sim                  \n",
       "23 23888   Solteiro     Masculino 54.99581 5832.634     Sim                  \n",
       "24 25844   Solteiro     Masculino 61.29739 6882.899     Nao                  \n",
       "25  7430   Casado       Masculino 34.58739 3842.536     Nao                  \n",
       "26 10276   Solteiro     Feminino  29.71764 4919.147     Nao                  \n",
       "27  3381   Casado       Feminino  19.25850 2063.014     Nao                  \n",
       "28  3512   Casado       Masculino 20.25858 2380.558     Nao                  \n",
       "29  4957   Casado       Feminino  37.80806 1985.882     Nao                  "
      ]
     },
     "metadata": {},
     "output_type": "display_data"
    }
   ],
   "source": [
    "############################################################################################################\n",
    "           ###########                 Desafio - AED         #########################\n",
    "          #############          IGTI - Professor Mairon Chaves      ###########################\n",
    "############################################################################################################\n",
    "\n",
    "rm(list = ls())\n",
    "\n",
    "\n",
    "\n",
    "#Forma o conjunto de dados historico contendo vinte e nove clientes selecionados aleatoriamente do banco de dados e a armazena\n",
    "#em um data frame chamado dados\n",
    "\n",
    "\n",
    "dados <- data.frame(\n",
    "  Consumo = c(2595, 8470, 4007, 6734, 33628, 3903, \n",
    "              13444, 12560, 31176, 5435, 26736, 3728, 8684, 8356, 36936, 3744, \n",
    "              30420, 5958, 1019, 11688, 4442, 2640, 23888, 25844, 7430, 10276, \n",
    "              3381, 3512, 4957),\n",
    "  Estado_Civil = c(\"Divorciado\", \"Casado\", \"Divorciado\", \n",
    "                   \"Casado\", \"Solteiro\", \"Divorciado\", \"Solteiro\", \"Solteiro\", \"Solteiro\", \n",
    "                   \"Casado\", \"Solteiro\", \"Divorciado\", \"Solteiro\", \"Solteiro\", \"Solteiro\", \n",
    "                   \"Divorciado\", \"Solteiro\", \"Divorciado\", \"Divorciado\", \"Solteiro\", \n",
    "                   \"Casado\", \"Solteiro\", \"Solteiro\", \"Solteiro\", \"Casado\", \"Solteiro\", \n",
    "                   \"Casado\", \"Casado\", \"Casado\"), \n",
    "  Genero = c(\"Feminino\", \"Feminino\", \n",
    "             \"Masculino\", \"Feminino\", \"Feminino\", \"Feminino\", \"Feminino\", \n",
    "             \"Feminino\", \"Feminino\", \"Masculino\", \"Masculino\", \"Masculino\", \n",
    "             \"Feminino\", \"Feminino\", \"Masculino\", \"Masculino\", \"Feminino\", \n",
    "             \"Masculino\", \"Feminino\", \"Feminino\", \"Masculino\", \"Masculino\", \n",
    "             \"Masculino\", \"Masculino\", \"Masculino\", \"Feminino\", \"Feminino\", \n",
    "             \"Masculino\", \"Feminino\"), \n",
    "  Idade = c(20.2585750236176, 32.1118436595569, \n",
    "            31.7467633607352, 37.8198500301827, 71.2083039792698, 29.7176362875943, \n",
    "            44.8093915220787, 35.8376118862763, 58.8385574663313, 39.9177951271474, \n",
    "            58.0550560477448, 21.778210059274, 31.7467633607352, 37.8198500301827, \n",
    "            71.2083039792698, 18.2385329827666, 61.5387187691615, 35.8376118862763, \n",
    "            20.2585750236176, 39.9177951271474, 37.9148802474609, 23.3568492662162, \n",
    "            54.9958059606044, 61.2973920327649, 34.58738731516, 29.7176362875943, \n",
    "            19.2584996796213, 20.2585750236176, 37.8080561311484), \n",
    "  Renda_Mensal = c(1985.88181437971,3769.2479179441, 2291.88059431382, 2390.40280655742, 8534.7173298783, \n",
    "                   2495.88975635737, 5714.55454591117, 5832.6343267674, 6882.89867212748, \n",
    "                   2099.31900110052, 6342.50934129081, 1941.14793399086, 3575.98064224822, \n",
    "                   3589.23716442208, 8534.7173298783, 2740.46957610393, 5714.55454591117, \n",
    "                   2390.40280655742, 1635.64603350165, 4364.56455252666, 1905.53820715893, \n",
    "                   2338.3086884437, 5832.6343267674, 6882.89867212748, 3842.53578942318, \n",
    "                   4919.14670791015, 2063.01440787432, 2380.55793401061, 1985.88181437971),\n",
    "  Possui_Imovel_Proprio = c(\"Sim\", \"Sim\", \"Nao\", \"Sim\", \"Nao\", \n",
    "                            \"Nao\", \"Nao\", \"Sim\", \"Sim\", \"Nao\", \"Nao\", \"Nao\", \"Nao\", \"Nao\", \n",
    "                            \"Nao\", \"Sim\", \"Nao\", \"Sim\", \"Nao\", \"Nao\", \"Nao\", \"Sim\", \"Sim\", \n",
    "                            \"Nao\", \"Nao\", \"Nao\", \"Nao\", \"Nao\", \"Nao\")\n",
    ")\n",
    "\n",
    "View(dados)"
   ]
  },
  {
   "cell_type": "code",
   "execution_count": 17,
   "metadata": {
    "vscode": {
     "languageId": "r"
    }
   },
   "outputs": [
    {
     "data": {
      "text/plain": [
       "\n",
       "\tShapiro-Wilk normality test\n",
       "\n",
       "data:  dados$Consumo\n",
       "W = 0.79774, p-value = 7.61e-05\n"
      ]
     },
     "metadata": {},
     "output_type": "display_data"
    }
   ],
   "source": [
    "shapiro.test(dados$Consumo)"
   ]
  },
  {
   "cell_type": "code",
   "execution_count": 10,
   "metadata": {
    "vscode": {
     "languageId": "r"
    }
   },
   "outputs": [
    {
     "data": {
      "image/png": "[encoded data removed]",
      "text/plain": [
       "Plot with title “Histogram of dados$Consumo”"
      ]
     },
     "metadata": {
      "image/png": {
       "height": 420,
       "width": 420
      }
     },
     "output_type": "display_data"
    }
   ],
   "source": [
    "#Explore a variável resposta, que é o Consumo, responda:\n",
    "\n",
    "#Histograma do consumo\n",
    "hist(dados$Consumo)"
   ]
  },
  {
   "cell_type": "code",
   "execution_count": 11,
   "metadata": {
    "vscode": {
     "languageId": "r"
    }
   },
   "outputs": [
    {
     "data": {
      "image/png": "[encoded data removed]",
      "text/plain": [
       "plot without title"
      ]
     },
     "metadata": {
      "image/png": {
       "height": 420,
       "width": 420
      }
     },
     "output_type": "display_data"
    }
   ],
   "source": [
    "#Boxplot do consumo\n",
    "boxplot(dados$Consumo)"
   ]
  },
  {
   "cell_type": "code",
   "execution_count": 12,
   "metadata": {
    "vscode": {
     "languageId": "r"
    }
   },
   "outputs": [
    {
     "data": {
      "text/plain": [
       "   Min. 1st Qu.  Median    Mean 3rd Qu.    Max. \n",
       "   1019    3903    7430   11917   13444   36936 "
      ]
     },
     "metadata": {},
     "output_type": "display_data"
    }
   ],
   "source": [
    "#Estatisticas descritivas do consumo\n",
    "summary(dados$Consumo)"
   ]
  },
  {
   "cell_type": "code",
   "execution_count": 13,
   "metadata": {
    "vscode": {
     "languageId": "r"
    }
   },
   "outputs": [
    {
     "data": {
      "text/plain": [
       "            \n",
       "             Nao Sim\n",
       "  Casado       6   2\n",
       "  Divorciado   4   3\n",
       "  Solteiro    10   4"
      ]
     },
     "metadata": {},
     "output_type": "display_data"
    }
   ],
   "source": [
    "#Suspeita-se que a variável Estado Civil está associada com o fato do cliente \n",
    "#Possuir Imóvel Próprio. Investigue a relação entre essas duas variáveis e \n",
    "#responda: \n",
    "\n",
    "\n",
    "#Gera tabela de contigencia entre Estado Civil e Possui Imovel Proprio\n",
    "tabela_contigencia <- table(dados$Estado_Civil, dados$Possui_Imovel_Proprio)\n",
    "\n",
    "tabela_contigencia"
   ]
  },
  {
   "cell_type": "code",
   "execution_count": 14,
   "metadata": {
    "vscode": {
     "languageId": "r"
    }
   },
   "outputs": [
    {
     "data": {
      "image/png": "[encoded data removed]",
      "text/plain": [
       "Plot with title “tabela_contigencia”"
      ]
     },
     "metadata": {
      "image/png": {
       "height": 420,
       "width": 420
      }
     },
     "output_type": "display_data"
    }
   ],
   "source": [
    "plot(tabela_contigencia)"
   ]
  },
  {
   "cell_type": "code",
   "execution_count": 15,
   "metadata": {
    "vscode": {
     "languageId": "r"
    }
   },
   "outputs": [
    {
     "name": "stderr",
     "output_type": "stream",
     "text": [
      "Warning message in chisq.test(tabela_contigencia):\n",
      "“Chi-squared approximation may be incorrect”\n"
     ]
    },
    {
     "data": {
      "text/plain": [
       "\n",
       "\tPearson's Chi-squared test\n",
       "\n",
       "data:  tabela_contigencia\n",
       "X-squared = 0.63294, df = 2, p-value = 0.7287\n"
      ]
     },
     "metadata": {},
     "output_type": "display_data"
    }
   ],
   "source": [
    "#Realiza  teste qui-quadrado\n",
    "chisq.test(tabela_contigencia) #ignore a mensagem de warning de vermelho"
   ]
  },
  {
   "cell_type": "code",
   "execution_count": 18,
   "metadata": {
    "vscode": {
     "languageId": "r"
    }
   },
   "outputs": [
    {
     "data": {
      "image/png": "[encoded data removed]",
      "text/plain": [
       "plot without title"
      ]
     },
     "metadata": {
      "image/png": {
       "height": 420,
       "width": 420
      }
     },
     "output_type": "display_data"
    }
   ],
   "source": [
    "#Explore a relação entre as variáveis Consumo e Possui Imóvel Próprio, responda:\n",
    "\n",
    "boxplot(dados$Consumo ~ dados$Possui_Imovel_Proprio)"
   ]
  },
  {
   "cell_type": "code",
   "execution_count": 19,
   "metadata": {
    "vscode": {
     "languageId": "r"
    }
   },
   "outputs": [
    {
     "data": {
      "text/plain": [
       "\n",
       "\tWelch Two Sample t-test\n",
       "\n",
       "data:  dados$Consumo by dados$Possui_Imovel_Proprio\n",
       "t = 0.3608, df = 17.472, p-value = 0.7226\n",
       "alternative hypothesis: true difference in means between group Nao and group Sim is not equal to 0\n",
       "95 percent confidence interval:\n",
       " -7391.322 10448.367\n",
       "sample estimates:\n",
       "mean in group Nao mean in group Sim \n",
       "         12391.30          10862.78 \n"
      ]
     },
     "metadata": {},
     "output_type": "display_data"
    }
   ],
   "source": [
    "#Test t de Student\n",
    "t.test(dados$Consumo ~ dados$Possui_Imovel_Proprio , \n",
    "       paired = FALSE, #amostras nao pareadas\n",
    "       alternative = 'two.sided', #bilateral\n",
    "       conf.level = 0.95 #95% de confianca\n",
    ")"
   ]
  },
  {
   "cell_type": "code",
   "execution_count": 20,
   "metadata": {
    "vscode": {
     "languageId": "r"
    }
   },
   "outputs": [
    {
     "data": {
      "image/png": "[encoded data removed]",
      "text/plain": [
       "plot without title"
      ]
     },
     "metadata": {
      "image/png": {
       "height": 420,
       "width": 420
      }
     },
     "output_type": "display_data"
    }
   ],
   "source": [
    "#Explore a relação entre as variáveis Consumo e Idade, e responda:\n",
    "\n",
    "plot(y = dados$Consumo ,\n",
    "     x = dados$Idade,\n",
    "     pch = 16)"
   ]
  },
  {
   "cell_type": "code",
   "execution_count": 21,
   "metadata": {
    "vscode": {
     "languageId": "r"
    }
   },
   "outputs": [
    {
     "data": {
      "text/html": [
       "0.939903974526311"
      ],
      "text/latex": [
       "0.939903974526311"
      ],
      "text/markdown": [
       "0.939903974526311"
      ],
      "text/plain": [
       "[1] 0.939904"
      ]
     },
     "metadata": {},
     "output_type": "display_data"
    }
   ],
   "source": [
    "#Coeficiente de correlacao\n",
    "cor(dados$Consumo, dados$Idade)"
   ]
  },
  {
   "cell_type": "code",
   "execution_count": 22,
   "metadata": {
    "vscode": {
     "languageId": "r"
    }
   },
   "outputs": [
    {
     "data": {
      "text/plain": [
       "\n",
       "Call:\n",
       "lm(formula = Consumo ~ Idade, data = dados)\n",
       "\n",
       "Residuals:\n",
       "    Min      1Q  Median      3Q     Max \n",
       "-7376.9 -2561.4   754.3  2758.7  6011.5 \n",
       "\n",
       "Coefficients:\n",
       "             Estimate Std. Error t value Pr(>|t|)    \n",
       "(Intercept) -13248.72    1895.14  -6.991 1.63e-07 ***\n",
       "Idade          652.86      45.64  14.304 4.04e-14 ***\n",
       "---\n",
       "Signif. codes:  0 ‘***’ 0.001 ‘**’ 0.01 ‘*’ 0.05 ‘.’ 0.1 ‘ ’ 1\n",
       "\n",
       "Residual standard error: 3793 on 27 degrees of freedom\n",
       "Multiple R-squared:  0.8834,\tAdjusted R-squared:  0.8791 \n",
       "F-statistic: 204.6 on 1 and 27 DF,  p-value: 4.042e-14\n"
      ]
     },
     "metadata": {},
     "output_type": "display_data"
    }
   ],
   "source": [
    "#Ajuste regressao linear do Consumo em funcao da Idade\n",
    "regressao_linear <- lm(Consumo ~ Idade, data = dados)\n",
    "summary(regressao_linear)"
   ]
  },
  {
   "cell_type": "code",
   "execution_count": 23,
   "metadata": {
    "vscode": {
     "languageId": "r"
    }
   },
   "outputs": [
    {
     "data": {
      "text/plain": [
       "\n",
       "\tShapiro-Wilk normality test\n",
       "\n",
       "data:  regressao_linear$residuals\n",
       "W = 0.95467, p-value = 0.2415\n"
      ]
     },
     "metadata": {},
     "output_type": "display_data"
    }
   ],
   "source": [
    "#Teste de normalidade para os residuos da regressao\n",
    "shapiro.test(regressao_linear$residuals)"
   ]
  },
  {
   "cell_type": "code",
   "execution_count": 24,
   "metadata": {
    "vscode": {
     "languageId": "r"
    }
   },
   "outputs": [
    {
     "data": {
      "text/plain": [
       "   Min. 1st Qu.  Median    Mean 3rd Qu.    Max. \n",
       "   1636    2292    3576    3965    5715    8535 "
      ]
     },
     "metadata": {},
     "output_type": "display_data"
    }
   ],
   "source": [
    "#Explore a variavel Renda Mensal\n",
    "summary(dados$Renda_Mensal)"
   ]
  },
  {
   "cell_type": "code",
   "execution_count": 25,
   "metadata": {
    "vscode": {
     "languageId": "r"
    }
   },
   "outputs": [
    {
     "data": {
      "text/plain": [
       "\n",
       "Call:\n",
       "lm(formula = Consumo ~ Idade + Renda_Mensal, data = dados)\n",
       "\n",
       "Residuals:\n",
       "    Min      1Q  Median      3Q     Max \n",
       "-5245.5 -1653.1  -797.9  1787.4  5906.7 \n",
       "\n",
       "Coefficients:\n",
       "               Estimate Std. Error t value Pr(>|t|)    \n",
       "(Intercept)  -1.191e+04  1.315e+03  -9.054 1.61e-09 ***\n",
       "Idade         3.481e+02  6.226e+01   5.591 7.11e-06 ***\n",
       "Renda_Mensal  2.625e+00  4.643e-01   5.653 6.05e-06 ***\n",
       "---\n",
       "Signif. codes:  0 ‘***’ 0.001 ‘**’ 0.01 ‘*’ 0.05 ‘.’ 0.1 ‘ ’ 1\n",
       "\n",
       "Residual standard error: 2589 on 26 degrees of freedom\n",
       "Multiple R-squared:  0.9477,\tAdjusted R-squared:  0.9437 \n",
       "F-statistic: 235.6 on 2 and 26 DF,  p-value: < 2.2e-16\n"
      ]
     },
     "metadata": {},
     "output_type": "display_data"
    }
   ],
   "source": [
    "#Explore a relação entre as variáveis Consumo e Idade, e responda:\n",
    "  \n",
    "#Regressao linear do Consumo em funcao da Idade e Renda Mensal\n",
    "regressao_linear <- lm(Consumo ~ Idade + Renda_Mensal, data = dados)\n",
    "summary(regressao_linear)"
   ]
  }
 ],
 "metadata": {
  "kernelspec": {
   "display_name": "R",
   "language": "R",
   "name": "ir"
  },
  "language_info": {
   "codemirror_mode": "r",
   "file_extension": ".r",
   "mimetype": "text/x-r-source",
   "name": "R",
   "pygments_lexer": "r",
   "version": "4.2.1"
  },
  "orig_nbformat": 4,
  "vscode": {
   "interpreter": {
    "hash": "916dbcbb3f70747c44a77c7bcd40155683ae19c65e1c03b4aa3499c5328201f1"
   }
  }
 },
 "nbformat": 4,
 "nbformat_minor": 2
}
