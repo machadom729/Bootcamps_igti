{
 "cells": [
  {
   "cell_type": "code",
   "execution_count": 2,
   "metadata": {
    "vscode": {
     "languageId": "r"
    }
   },
   "outputs": [
    {
     "data": {
      "text/html": [
       "<table class=\"dataframe\">\n",
       "<caption>A data.frame: 20 × 7</caption>\n",
       "<thead>\n",
       "\t<tr><th scope=col>Preco</th><th scope=col>Portas</th><th scope=col>Ar_Condicionado</th><th scope=col>Quadrimestre</th><th scope=col>Idade_Locatario</th><th scope=col>Quilometragem</th><th scope=col>Dolar</th></tr>\n",
       "\t<tr><th scope=col>&lt;dbl&gt;</th><th scope=col>&lt;chr&gt;</th><th scope=col>&lt;chr&gt;</th><th scope=col>&lt;chr&gt;</th><th scope=col>&lt;dbl&gt;</th><th scope=col>&lt;dbl&gt;</th><th scope=col>&lt;dbl&gt;</th></tr>\n",
       "</thead>\n",
       "<tbody>\n",
       "\t<tr><td>368.3845</td><td>duas_portas  </td><td>sem_ar_condicionado</td><td>segundo_quadrimestre </td><td>23</td><td>957.4428</td><td>4.411479</td></tr>\n",
       "\t<tr><td>446.8502</td><td>quatro_portas</td><td>com_ar_condicionado</td><td>segundo_quadrimestre </td><td>18</td><td>829.5333</td><td>5.630144</td></tr>\n",
       "\t<tr><td>414.7277</td><td>duas_portas  </td><td>com_ar_condicionado</td><td>segundo_quadrimestre </td><td>28</td><td>923.3002</td><td>8.805579</td></tr>\n",
       "\t<tr><td>434.2911</td><td>quatro_portas</td><td>com_ar_condicionado</td><td>segundo_quadrimestre </td><td>21</td><td>871.5191</td><td>4.260591</td></tr>\n",
       "\t<tr><td>436.6527</td><td>quatro_portas</td><td>com_ar_condicionado</td><td>segundo_quadrimestre </td><td>18</td><td>930.7041</td><td>6.934163</td></tr>\n",
       "\t<tr><td>457.6580</td><td>duas_portas  </td><td>com_ar_condicionado</td><td>terceiro_quadrimestre</td><td>21</td><td>554.6967</td><td>1.611307</td></tr>\n",
       "\t<tr><td>490.6943</td><td>quatro_portas</td><td>com_ar_condicionado</td><td>primeiro_quadrimestre</td><td>18</td><td>501.9411</td><td>2.578132</td></tr>\n",
       "\t<tr><td>474.8818</td><td>duas_portas  </td><td>com_ar_condicionado</td><td>primeiro_quadrimestre</td><td>20</td><td>665.4351</td><td>4.666667</td></tr>\n",
       "\t<tr><td>458.4624</td><td>quatro_portas</td><td>com_ar_condicionado</td><td>terceiro_quadrimestre</td><td>25</td><td>568.2408</td><td>1.684607</td></tr>\n",
       "\t<tr><td>412.7194</td><td>duas_portas  </td><td>com_ar_condicionado</td><td>segundo_quadrimestre </td><td>29</td><td>930.7041</td><td>7.338724</td></tr>\n",
       "\t<tr><td>448.7990</td><td>quatro_portas</td><td>com_ar_condicionado</td><td>terceiro_quadrimestre</td><td>18</td><td>554.6967</td><td>4.523008</td></tr>\n",
       "\t<tr><td>352.0407</td><td>quatro_portas</td><td>sem_ar_condicionado</td><td>segundo_quadrimestre </td><td>33</td><td>829.5333</td><td>2.966898</td></tr>\n",
       "\t<tr><td>449.4619</td><td>duas_portas  </td><td>com_ar_condicionado</td><td>terceiro_quadrimestre</td><td>20</td><td>665.4351</td><td>9.914482</td></tr>\n",
       "\t<tr><td>416.1510</td><td>quatro_portas</td><td>com_ar_condicionado</td><td>segundo_quadrimestre </td><td>21</td><td>871.5191</td><td>8.555778</td></tr>\n",
       "\t<tr><td>416.4994</td><td>duas_portas  </td><td>com_ar_condicionado</td><td>segundo_quadrimestre </td><td>18</td><td>930.7041</td><td>5.934249</td></tr>\n",
       "\t<tr><td>551.3158</td><td>quatro_portas</td><td>com_ar_condicionado</td><td>primeiro_quadrimestre</td><td>21</td><td>351.5471</td><td>5.557754</td></tr>\n",
       "\t<tr><td>462.1268</td><td>quatro_portas</td><td>com_ar_condicionado</td><td>terceiro_quadrimestre</td><td>18</td><td>501.9411</td><td>6.944755</td></tr>\n",
       "\t<tr><td>515.9573</td><td>duas_portas  </td><td>com_ar_condicionado</td><td>primeiro_quadrimestre</td><td>20</td><td>447.8720</td><td>4.743303</td></tr>\n",
       "\t<tr><td>467.5987</td><td>quatro_portas</td><td>com_ar_condicionado</td><td>primeiro_quadrimestre</td><td>25</td><td>568.2408</td><td>4.723307</td></tr>\n",
       "\t<tr><td>339.5485</td><td>quatro_portas</td><td>sem_ar_condicionado</td><td>segundo_quadrimestre </td><td>29</td><td>930.7041</td><td>4.701089</td></tr>\n",
       "</tbody>\n",
       "</table>\n"
      ],
      "text/latex": [
       "A data.frame: 20 × 7\n",
       "\\begin{tabular}{lllllll}\n",
       " Preco & Portas & Ar\\_Condicionado & Quadrimestre & Idade\\_Locatario & Quilometragem & Dolar\\\\\n",
       " <dbl> & <chr> & <chr> & <chr> & <dbl> & <dbl> & <dbl>\\\\\n",
       "\\hline\n",
       "\t 368.3845 & duas\\_portas   & sem\\_ar\\_condicionado & segundo\\_quadrimestre  & 23 & 957.4428 & 4.411479\\\\\n",
       "\t 446.8502 & quatro\\_portas & com\\_ar\\_condicionado & segundo\\_quadrimestre  & 18 & 829.5333 & 5.630144\\\\\n",
       "\t 414.7277 & duas\\_portas   & com\\_ar\\_condicionado & segundo\\_quadrimestre  & 28 & 923.3002 & 8.805579\\\\\n",
       "\t 434.2911 & quatro\\_portas & com\\_ar\\_condicionado & segundo\\_quadrimestre  & 21 & 871.5191 & 4.260591\\\\\n",
       "\t 436.6527 & quatro\\_portas & com\\_ar\\_condicionado & segundo\\_quadrimestre  & 18 & 930.7041 & 6.934163\\\\\n",
       "\t 457.6580 & duas\\_portas   & com\\_ar\\_condicionado & terceiro\\_quadrimestre & 21 & 554.6967 & 1.611307\\\\\n",
       "\t 490.6943 & quatro\\_portas & com\\_ar\\_condicionado & primeiro\\_quadrimestre & 18 & 501.9411 & 2.578132\\\\\n",
       "\t 474.8818 & duas\\_portas   & com\\_ar\\_condicionado & primeiro\\_quadrimestre & 20 & 665.4351 & 4.666667\\\\\n",
       "\t 458.4624 & quatro\\_portas & com\\_ar\\_condicionado & terceiro\\_quadrimestre & 25 & 568.2408 & 1.684607\\\\\n",
       "\t 412.7194 & duas\\_portas   & com\\_ar\\_condicionado & segundo\\_quadrimestre  & 29 & 930.7041 & 7.338724\\\\\n",
       "\t 448.7990 & quatro\\_portas & com\\_ar\\_condicionado & terceiro\\_quadrimestre & 18 & 554.6967 & 4.523008\\\\\n",
       "\t 352.0407 & quatro\\_portas & sem\\_ar\\_condicionado & segundo\\_quadrimestre  & 33 & 829.5333 & 2.966898\\\\\n",
       "\t 449.4619 & duas\\_portas   & com\\_ar\\_condicionado & terceiro\\_quadrimestre & 20 & 665.4351 & 9.914482\\\\\n",
       "\t 416.1510 & quatro\\_portas & com\\_ar\\_condicionado & segundo\\_quadrimestre  & 21 & 871.5191 & 8.555778\\\\\n",
       "\t 416.4994 & duas\\_portas   & com\\_ar\\_condicionado & segundo\\_quadrimestre  & 18 & 930.7041 & 5.934249\\\\\n",
       "\t 551.3158 & quatro\\_portas & com\\_ar\\_condicionado & primeiro\\_quadrimestre & 21 & 351.5471 & 5.557754\\\\\n",
       "\t 462.1268 & quatro\\_portas & com\\_ar\\_condicionado & terceiro\\_quadrimestre & 18 & 501.9411 & 6.944755\\\\\n",
       "\t 515.9573 & duas\\_portas   & com\\_ar\\_condicionado & primeiro\\_quadrimestre & 20 & 447.8720 & 4.743303\\\\\n",
       "\t 467.5987 & quatro\\_portas & com\\_ar\\_condicionado & primeiro\\_quadrimestre & 25 & 568.2408 & 4.723307\\\\\n",
       "\t 339.5485 & quatro\\_portas & sem\\_ar\\_condicionado & segundo\\_quadrimestre  & 29 & 930.7041 & 4.701089\\\\\n",
       "\\end{tabular}\n"
      ],
      "text/markdown": [
       "\n",
       "A data.frame: 20 × 7\n",
       "\n",
       "| Preco &lt;dbl&gt; | Portas &lt;chr&gt; | Ar_Condicionado &lt;chr&gt; | Quadrimestre &lt;chr&gt; | Idade_Locatario &lt;dbl&gt; | Quilometragem &lt;dbl&gt; | Dolar &lt;dbl&gt; |\n",
       "|---|---|---|---|---|---|---|\n",
       "| 368.3845 | duas_portas   | sem_ar_condicionado | segundo_quadrimestre  | 23 | 957.4428 | 4.411479 |\n",
       "| 446.8502 | quatro_portas | com_ar_condicionado | segundo_quadrimestre  | 18 | 829.5333 | 5.630144 |\n",
       "| 414.7277 | duas_portas   | com_ar_condicionado | segundo_quadrimestre  | 28 | 923.3002 | 8.805579 |\n",
       "| 434.2911 | quatro_portas | com_ar_condicionado | segundo_quadrimestre  | 21 | 871.5191 | 4.260591 |\n",
       "| 436.6527 | quatro_portas | com_ar_condicionado | segundo_quadrimestre  | 18 | 930.7041 | 6.934163 |\n",
       "| 457.6580 | duas_portas   | com_ar_condicionado | terceiro_quadrimestre | 21 | 554.6967 | 1.611307 |\n",
       "| 490.6943 | quatro_portas | com_ar_condicionado | primeiro_quadrimestre | 18 | 501.9411 | 2.578132 |\n",
       "| 474.8818 | duas_portas   | com_ar_condicionado | primeiro_quadrimestre | 20 | 665.4351 | 4.666667 |\n",
       "| 458.4624 | quatro_portas | com_ar_condicionado | terceiro_quadrimestre | 25 | 568.2408 | 1.684607 |\n",
       "| 412.7194 | duas_portas   | com_ar_condicionado | segundo_quadrimestre  | 29 | 930.7041 | 7.338724 |\n",
       "| 448.7990 | quatro_portas | com_ar_condicionado | terceiro_quadrimestre | 18 | 554.6967 | 4.523008 |\n",
       "| 352.0407 | quatro_portas | sem_ar_condicionado | segundo_quadrimestre  | 33 | 829.5333 | 2.966898 |\n",
       "| 449.4619 | duas_portas   | com_ar_condicionado | terceiro_quadrimestre | 20 | 665.4351 | 9.914482 |\n",
       "| 416.1510 | quatro_portas | com_ar_condicionado | segundo_quadrimestre  | 21 | 871.5191 | 8.555778 |\n",
       "| 416.4994 | duas_portas   | com_ar_condicionado | segundo_quadrimestre  | 18 | 930.7041 | 5.934249 |\n",
       "| 551.3158 | quatro_portas | com_ar_condicionado | primeiro_quadrimestre | 21 | 351.5471 | 5.557754 |\n",
       "| 462.1268 | quatro_portas | com_ar_condicionado | terceiro_quadrimestre | 18 | 501.9411 | 6.944755 |\n",
       "| 515.9573 | duas_portas   | com_ar_condicionado | primeiro_quadrimestre | 20 | 447.8720 | 4.743303 |\n",
       "| 467.5987 | quatro_portas | com_ar_condicionado | primeiro_quadrimestre | 25 | 568.2408 | 4.723307 |\n",
       "| 339.5485 | quatro_portas | sem_ar_condicionado | segundo_quadrimestre  | 29 | 930.7041 | 4.701089 |\n",
       "\n"
      ],
      "text/plain": [
       "   Preco    Portas        Ar_Condicionado     Quadrimestre         \n",
       "1  368.3845 duas_portas   sem_ar_condicionado segundo_quadrimestre \n",
       "2  446.8502 quatro_portas com_ar_condicionado segundo_quadrimestre \n",
       "3  414.7277 duas_portas   com_ar_condicionado segundo_quadrimestre \n",
       "4  434.2911 quatro_portas com_ar_condicionado segundo_quadrimestre \n",
       "5  436.6527 quatro_portas com_ar_condicionado segundo_quadrimestre \n",
       "6  457.6580 duas_portas   com_ar_condicionado terceiro_quadrimestre\n",
       "7  490.6943 quatro_portas com_ar_condicionado primeiro_quadrimestre\n",
       "8  474.8818 duas_portas   com_ar_condicionado primeiro_quadrimestre\n",
       "9  458.4624 quatro_portas com_ar_condicionado terceiro_quadrimestre\n",
       "10 412.7194 duas_portas   com_ar_condicionado segundo_quadrimestre \n",
       "11 448.7990 quatro_portas com_ar_condicionado terceiro_quadrimestre\n",
       "12 352.0407 quatro_portas sem_ar_condicionado segundo_quadrimestre \n",
       "13 449.4619 duas_portas   com_ar_condicionado terceiro_quadrimestre\n",
       "14 416.1510 quatro_portas com_ar_condicionado segundo_quadrimestre \n",
       "15 416.4994 duas_portas   com_ar_condicionado segundo_quadrimestre \n",
       "16 551.3158 quatro_portas com_ar_condicionado primeiro_quadrimestre\n",
       "17 462.1268 quatro_portas com_ar_condicionado terceiro_quadrimestre\n",
       "18 515.9573 duas_portas   com_ar_condicionado primeiro_quadrimestre\n",
       "19 467.5987 quatro_portas com_ar_condicionado primeiro_quadrimestre\n",
       "20 339.5485 quatro_portas sem_ar_condicionado segundo_quadrimestre \n",
       "   Idade_Locatario Quilometragem Dolar   \n",
       "1  23              957.4428      4.411479\n",
       "2  18              829.5333      5.630144\n",
       "3  28              923.3002      8.805579\n",
       "4  21              871.5191      4.260591\n",
       "5  18              930.7041      6.934163\n",
       "6  21              554.6967      1.611307\n",
       "7  18              501.9411      2.578132\n",
       "8  20              665.4351      4.666667\n",
       "9  25              568.2408      1.684607\n",
       "10 29              930.7041      7.338724\n",
       "11 18              554.6967      4.523008\n",
       "12 33              829.5333      2.966898\n",
       "13 20              665.4351      9.914482\n",
       "14 21              871.5191      8.555778\n",
       "15 18              930.7041      5.934249\n",
       "16 21              351.5471      5.557754\n",
       "17 18              501.9411      6.944755\n",
       "18 20              447.8720      4.743303\n",
       "19 25              568.2408      4.723307\n",
       "20 29              930.7041      4.701089"
      ]
     },
     "metadata": {},
     "output_type": "display_data"
    }
   ],
   "source": [
    "############################################################################################################\n",
    "###########         Trabalho Pratico - AED         #####################################\n",
    "   #############          IGTI - Professor Mairon Chaves             #################################\n",
    "############################################################################################################\n",
    "\n",
    "\n",
    "#Forma o conjunto de dados historico contendo vinte locacoes sorteadas aleatoriamente do banco de dados e a armazena\n",
    "#em um data frame chamado dados\n",
    "\n",
    "dados <- data.frame(\n",
    "Preco = c(368.384514890573, 446.850186825816, \n",
    "          414.72765691978, 434.291090918223, 436.652686535348, 457.65797344255, \n",
    "          490.694346597566, 474.881781399868, 458.462395897205, 412.719412673294, \n",
    "          448.799032112411, 352.040747235864, 449.461858221104, 416.150953927119, \n",
    "          416.499426750268, 551.315803331779, 462.126789471159, 515.957335395508, \n",
    "          467.598697162974, 339.548470369391), \n",
    "Portas = c(\"duas_portas\", \"quatro_portas\", \"duas_portas\", \"quatro_portas\", \"quatro_portas\", \n",
    "          \"duas_portas\", \"quatro_portas\", \"duas_portas\", \"quatro_portas\", \n",
    "          \"duas_portas\", \"quatro_portas\", \"quatro_portas\", \"duas_portas\", \n",
    "          \"quatro_portas\", \"duas_portas\", \"quatro_portas\", \"quatro_portas\", \n",
    "          \"duas_portas\", \"quatro_portas\", \"quatro_portas\"),\n",
    "Ar_Condicionado = c(\"sem_ar_condicionado\",  \"com_ar_condicionado\", \"com_ar_condicionado\", \"com_ar_condicionado\", \n",
    "                  \"com_ar_condicionado\", \"com_ar_condicionado\", \"com_ar_condicionado\", \n",
    "                  \"com_ar_condicionado\", \"com_ar_condicionado\", \"com_ar_condicionado\", \n",
    "                  \"com_ar_condicionado\", \"sem_ar_condicionado\", \"com_ar_condicionado\", \n",
    "                  \"com_ar_condicionado\", \"com_ar_condicionado\", \"com_ar_condicionado\", \n",
    "                  \"com_ar_condicionado\", \"com_ar_condicionado\", \"com_ar_condicionado\", \n",
    "                  \"sem_ar_condicionado\"),\n",
    "Quadrimestre = c(\"segundo_quadrimestre\",\"segundo_quadrimestre\", \"segundo_quadrimestre\", \"segundo_quadrimestre\", \n",
    "                 \"segundo_quadrimestre\", \"terceiro_quadrimestre\", \"primeiro_quadrimestre\", \n",
    "                 \"primeiro_quadrimestre\", \"terceiro_quadrimestre\", \"segundo_quadrimestre\", \n",
    "                 \"terceiro_quadrimestre\", \"segundo_quadrimestre\", \"terceiro_quadrimestre\", \n",
    "                 \"segundo_quadrimestre\", \"segundo_quadrimestre\", \"primeiro_quadrimestre\", \n",
    "                 \"terceiro_quadrimestre\", \"primeiro_quadrimestre\", \"primeiro_quadrimestre\", \n",
    "                 \"segundo_quadrimestre\"), \n",
    "Idade_Locatario = c(23, 18, 28, 21, 18, 21, 18, 20, 25, 29, 18, 33, 20, 21, 18, 21, 18, 20, 25, 29),\n",
    "Quilometragem = c(957.442780544097, 829.533278217768, 923.300215829467, 871.519116905113, 930.704105677958, 554.696695914233, 501.941059782271, \n",
    "                  665.435074822519, 568.24079543466, 930.704105677958, 554.696695914233, \n",
    "                  829.533278217768, 665.435074822519, 871.519116905113, 930.704105677958, \n",
    "                  351.547138218644, 501.941059782271, 447.872006186523, 568.24079543466, \n",
    "                  930.704105677958), \n",
    "Dolar = c(4.41147933990862, 5.63014407874318, \n",
    "         8.80557934010615, 4.260591319988649, 6.93416279643155, 1.61130694543154, \n",
    "         2.57813244655973, 4.66666728709914, 1.6846066723224, 7.33872353619711, \n",
    "         4.52300814589177, 2.96689816205009, 9.91448182957733, 8.55577847959413, \n",
    "         5.93424935955983, 5.55775429484673, 6.94475470863839, 4.74330294976712, \n",
    "         4.723306965757987, 4.7010894862212))\n",
    "\n",
    "View(dados)"
   ]
  },
  {
   "cell_type": "code",
   "execution_count": 3,
   "metadata": {
    "vscode": {
     "languageId": "r"
    }
   },
   "outputs": [
    {
     "data": {
      "text/plain": [
       "     Preco          Portas          Ar_Condicionado    Quadrimestre      \n",
       " Min.   :339.5   Length:20          Length:20          Length:20         \n",
       " 1st Qu.:415.8   Class :character   Class :character   Class :character  \n",
       " Median :447.8   Mode  :character   Mode  :character   Mode  :character  \n",
       " Mean   :440.7                                                           \n",
       " 3rd Qu.:463.5                                                           \n",
       " Max.   :551.3                                                           \n",
       " Idade_Locatario Quilometragem       Dolar      \n",
       " Min.   :18.0    Min.   :351.5   Min.   :1.611  \n",
       " 1st Qu.:18.0    1st Qu.:554.7   1st Qu.:4.374  \n",
       " Median :21.0    Median :747.5   Median :4.733  \n",
       " Mean   :22.2    Mean   :719.3   Mean   :5.324  \n",
       " 3rd Qu.:25.0    3rd Qu.:925.2   3rd Qu.:6.937  \n",
       " Max.   :33.0    Max.   :957.4   Max.   :9.914  "
      ]
     },
     "metadata": {},
     "output_type": "display_data"
    }
   ],
   "source": [
    "summary(dados)"
   ]
  },
  {
   "cell_type": "code",
   "execution_count": 19,
   "metadata": {
    "vscode": {
     "languageId": "r"
    }
   },
   "outputs": [
    {
     "data": {
      "text/plain": [
       "\n",
       "\tShapiro-Wilk normality test\n",
       "\n",
       "data:  dados$Preco\n",
       "W = 0.96559, p-value = 0.6604\n"
      ]
     },
     "metadata": {},
     "output_type": "display_data"
    }
   ],
   "source": [
    "shapiro.test(dados$Preco)"
   ]
  },
  {
   "cell_type": "code",
   "execution_count": 4,
   "metadata": {
    "vscode": {
     "languageId": "r"
    }
   },
   "outputs": [
    {
     "data": {
      "image/png": "[encoded data removed]",
      "text/plain": [
       "Plot with title “Histogram of dados$Preco”"
      ]
     },
     "metadata": {
      "image/png": {
       "height": 420,
       "width": 420
      }
     },
     "output_type": "display_data"
    }
   ],
   "source": [
    "#Explore a variável resposta, que é o Preço, e responda:\n",
    "   \n",
    "#Histograma do preco\n",
    "hist(dados$Preco)"
   ]
  },
  {
   "cell_type": "code",
   "execution_count": 5,
   "metadata": {
    "vscode": {
     "languageId": "r"
    }
   },
   "outputs": [
    {
     "data": {
      "image/png": "[encoded data removed]",
      "text/plain": [
       "plot without title"
      ]
     },
     "metadata": {
      "image/png": {
       "height": 420,
       "width": 420
      }
     },
     "output_type": "display_data"
    }
   ],
   "source": [
    "#Boxplot do preco\n",
    "boxplot(dados$Preco)"
   ]
  },
  {
   "cell_type": "code",
   "execution_count": 6,
   "metadata": {
    "vscode": {
     "languageId": "r"
    }
   },
   "outputs": [
    {
     "data": {
      "text/plain": [
       "   Min. 1st Qu.  Median    Mean 3rd Qu.    Max. \n",
       "  339.5   415.8   447.8   440.7   463.5   551.3 "
      ]
     },
     "metadata": {},
     "output_type": "display_data"
    }
   ],
   "source": [
    "#Estatisticas descritivas do preco\n",
    "summary(dados$Preco)"
   ]
  },
  {
   "cell_type": "code",
   "execution_count": 7,
   "metadata": {
    "vscode": {
     "languageId": "r"
    }
   },
   "outputs": [
    {
     "data": {
      "image/png": "[encoded data removed]",
      "text/plain": [
       "plot without title"
      ]
     },
     "metadata": {
      "image/png": {
       "height": 420,
       "width": 420
      }
     },
     "output_type": "display_data"
    }
   ],
   "source": [
    "#Explore a relação entre as variáveis  Preço e Quadrimestre, e responda:\n",
    "\n",
    "#Boxplot entre o Preco e Quadrimestre\n",
    "boxplot(dados$Preco~ dados$Quadrimestre)"
   ]
  },
  {
   "cell_type": "code",
   "execution_count": 8,
   "metadata": {
    "vscode": {
     "languageId": "r"
    }
   },
   "outputs": [
    {
     "data": {
      "text/plain": [
       "             Df Sum Sq Mean Sq F value   Pr(>F)    \n",
       "Quadrimestre  2  32328   16164   15.95 0.000126 ***\n",
       "Residuals    17  17230    1014                     \n",
       "---\n",
       "Signif. codes:  0 ‘***’ 0.001 ‘**’ 0.01 ‘*’ 0.05 ‘.’ 0.1 ‘ ’ 1"
      ]
     },
     "metadata": {},
     "output_type": "display_data"
    }
   ],
   "source": [
    "#Realiza analise de variancia\n",
    "anova <- aov(Preco ~ Quadrimestre, data = dados)\n",
    "summary(anova)"
   ]
  },
  {
   "cell_type": "code",
   "execution_count": 9,
   "metadata": {
    "vscode": {
     "languageId": "r"
    }
   },
   "outputs": [
    {
     "data": {
      "image/png": "[encoded data removed]",
      "text/plain": [
       "plot without title"
      ]
     },
     "metadata": {
      "image/png": {
       "height": 420,
       "width": 420
      }
     },
     "output_type": "display_data"
    }
   ],
   "source": [
    "#Explore a relação entre as variáveis Preço e Portas, responda:\n",
    "\n",
    "boxplot(dados$Preco ~ dados$Portas)"
   ]
  },
  {
   "cell_type": "code",
   "execution_count": 10,
   "metadata": {
    "vscode": {
     "languageId": "r"
    }
   },
   "outputs": [
    {
     "data": {
      "text/plain": [
       "\n",
       "\tWelch Two Sample t-test\n",
       "\n",
       "data:  dados$Preco by dados$Portas\n",
       "t = -0.14239, df = 17.221, p-value = 0.8884\n",
       "alternative hypothesis: true difference in means between group duas_portas and group quatro_portas is not equal to 0\n",
       "95 percent confidence interval:\n",
       " -51.48432  44.96827\n",
       "sample estimates:\n",
       "  mean in group duas_portas mean in group quatro_portas \n",
       "                   438.7862                    442.0443 \n"
      ]
     },
     "metadata": {},
     "output_type": "display_data"
    }
   ],
   "source": [
    "#Test t de Student\n",
    "t.test(dados$Preco ~ dados$Portas , \n",
    "       paired = FALSE, #amostras nao pareadas\n",
    "       alternative = 'two.sided', #bilateral\n",
    "       conf.level = 0.95 #95% de confianca\n",
    "       )"
   ]
  },
  {
   "cell_type": "code",
   "execution_count": 11,
   "metadata": {
    "vscode": {
     "languageId": "r"
    }
   },
   "outputs": [
    {
     "data": {
      "image/png": "[encoded data removed]",
      "text/plain": [
       "plot without title"
      ]
     },
     "metadata": {
      "image/png": {
       "height": 420,
       "width": 420
      }
     },
     "output_type": "display_data"
    }
   ],
   "source": [
    "#Explore a relação entre as variáveis Preço e Quilometragem, responda:\n",
    "\n",
    "plot(y = dados$Preco ,\n",
    "     x = dados$Quilometragem,\n",
    "     pch = 16)"
   ]
  },
  {
   "cell_type": "code",
   "execution_count": 12,
   "metadata": {
    "vscode": {
     "languageId": "r"
    }
   },
   "outputs": [
    {
     "data": {
      "text/html": [
       "-0.823156087216225"
      ],
      "text/latex": [
       "-0.823156087216225"
      ],
      "text/markdown": [
       "-0.823156087216225"
      ],
      "text/plain": [
       "[1] -0.8231561"
      ]
     },
     "metadata": {},
     "output_type": "display_data"
    }
   ],
   "source": [
    "#Coeficiente de correlacao\n",
    "cor(dados$Preco, dados$Quilometragem)"
   ]
  },
  {
   "cell_type": "code",
   "execution_count": 13,
   "metadata": {
    "vscode": {
     "languageId": "r"
    }
   },
   "outputs": [
    {
     "data": {
      "text/plain": [
       "\n",
       "Call:\n",
       "lm(formula = Preco ~ Quilometragem, data = dados)\n",
       "\n",
       "Residuals:\n",
       "    Min      1Q  Median      3Q     Max \n",
       "-65.477 -18.862   5.824  20.919  40.446 \n",
       "\n",
       "Coefficients:\n",
       "               Estimate Std. Error t value Pr(>|t|)    \n",
       "(Intercept)   592.25689   25.51961  23.208 7.28e-15 ***\n",
       "Quilometragem  -0.21065    0.03425  -6.151 8.29e-06 ***\n",
       "---\n",
       "Signif. codes:  0 ‘***’ 0.001 ‘**’ 0.01 ‘*’ 0.05 ‘.’ 0.1 ‘ ’ 1\n",
       "\n",
       "Residual standard error: 29.79 on 18 degrees of freedom\n",
       "Multiple R-squared:  0.6776,\tAdjusted R-squared:  0.6597 \n",
       "F-statistic: 37.83 on 1 and 18 DF,  p-value: 8.293e-06\n"
      ]
     },
     "metadata": {},
     "output_type": "display_data"
    }
   ],
   "source": [
    "#Ajuste regressao linear do Preco em funcao da Quilometragem\n",
    "regressao_linear <- lm(Preco ~ Quilometragem, data = dados)\n",
    "summary(regressao_linear)"
   ]
  },
  {
   "cell_type": "code",
   "execution_count": 14,
   "metadata": {
    "vscode": {
     "languageId": "r"
    }
   },
   "outputs": [
    {
     "data": {
      "text/plain": [
       "   Min. 1st Qu.  Median    Mean 3rd Qu.    Max. \n",
       "  351.5   554.7   747.5   719.3   925.2   957.4 "
      ]
     },
     "metadata": {},
     "output_type": "display_data"
    }
   ],
   "source": [
    "#Analise descritiva da variavel quilometragem\n",
    "summary(dados$Quilometragem)"
   ]
  },
  {
   "cell_type": "code",
   "execution_count": 15,
   "metadata": {
    "vscode": {
     "languageId": "r"
    }
   },
   "outputs": [
    {
     "data": {
      "text/html": [
       "0.277462786402666"
      ],
      "text/latex": [
       "0.277462786402666"
      ],
      "text/markdown": [
       "0.277462786402666"
      ],
      "text/plain": [
       "[1] 0.2774628"
      ]
     },
     "metadata": {},
     "output_type": "display_data"
    }
   ],
   "source": [
    "#Coeficiente de variacao\n",
    "sd(dados$Quilometragem) / mean(dados$Quilometragem)"
   ]
  },
  {
   "cell_type": "code",
   "execution_count": 16,
   "metadata": {
    "vscode": {
     "languageId": "r"
    }
   },
   "outputs": [
    {
     "data": {
      "image/png": "[encoded data removed]",
      "text/plain": [
       "plot without title"
      ]
     },
     "metadata": {
      "image/png": {
       "height": 420,
       "width": 420
      }
     },
     "output_type": "display_data"
    }
   ],
   "source": [
    "#Explore a correlacao entre o Dolar e o Preco\n",
    "plot(y = dados$Preco,\n",
    "     x = dados$Dolar,\n",
    "     pch = 16)"
   ]
  },
  {
   "cell_type": "code",
   "execution_count": 17,
   "metadata": {
    "vscode": {
     "languageId": "r"
    }
   },
   "outputs": [
    {
     "data": {
      "text/html": [
       "-0.0698271565056108"
      ],
      "text/latex": [
       "-0.0698271565056108"
      ],
      "text/markdown": [
       "-0.0698271565056108"
      ],
      "text/plain": [
       "[1] -0.06982716"
      ]
     },
     "metadata": {},
     "output_type": "display_data"
    }
   ],
   "source": [
    "cor(dados$Preco, dados$Dolar)"
   ]
  },
  {
   "cell_type": "code",
   "execution_count": 18,
   "metadata": {
    "vscode": {
     "languageId": "r"
    }
   },
   "outputs": [
    {
     "data": {
      "text/plain": [
       "\n",
       "Call:\n",
       "lm(formula = Preco ~ Dolar, data = dados)\n",
       "\n",
       "Residuals:\n",
       "     Min       1Q   Median       3Q      Max \n",
       "-102.173  -21.224    6.694   24.429  110.942 \n",
       "\n",
       "Coefficients:\n",
       "            Estimate Std. Error t value Pr(>|t|)    \n",
       "(Intercept)  449.115     30.530  14.711 1.78e-11 ***\n",
       "Dolar         -1.573      5.296  -0.297     0.77    \n",
       "---\n",
       "Signif. codes:  0 ‘***’ 0.001 ‘**’ 0.01 ‘*’ 0.05 ‘.’ 0.1 ‘ ’ 1\n",
       "\n",
       "Residual standard error: 52.34 on 18 degrees of freedom\n",
       "Multiple R-squared:  0.004876,\tAdjusted R-squared:  -0.05041 \n",
       "F-statistic: 0.08819 on 1 and 18 DF,  p-value: 0.7699\n"
      ]
     },
     "metadata": {},
     "output_type": "display_data"
    }
   ],
   "source": [
    "regressao_linear <- lm(Preco ~ Dolar, data = dados)\n",
    "summary(regressao_linear)"
   ]
  }
 ],
 "metadata": {
  "kernelspec": {
   "display_name": "R",
   "language": "R",
   "name": "ir"
  },
  "language_info": {
   "codemirror_mode": "r",
   "file_extension": ".r",
   "mimetype": "text/x-r-source",
   "name": "R",
   "pygments_lexer": "r",
   "version": "4.2.1"
  },
  "orig_nbformat": 4
 },
 "nbformat": 4,
 "nbformat_minor": 2
}
